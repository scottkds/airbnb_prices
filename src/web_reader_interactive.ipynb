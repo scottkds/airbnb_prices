{
 "cells": [
  {
   "cell_type": "code",
   "execution_count": 1,
   "metadata": {},
   "outputs": [],
   "source": [
    "# Imports\n",
    "import pandas as pd\n",
    "from selenium import webdriver\n",
    "from selenium.webdriver.support.ui import WebDriverWait\n",
    "from selenium.webdriver.common.by import By\n",
    "from selenium.webdriver.support import expected_conditions as EC\n",
    "from bs4 import BeautifulSoup\n",
    "import json\n",
    "import time\n",
    "import re\n",
    "from collections import defaultdict\n",
    "from airbnb_lib import number_of_stays_page_bottom\n",
    "from datetime import datetime"
   ]
  },
  {
   "cell_type": "code",
   "execution_count": 2,
   "metadata": {},
   "outputs": [],
   "source": [
    "def setup_webdriver(width=800, height=600):\n",
    "    \"\"\"Opens a chrome window and sets the size of the window. The webdriver object is returned.\"\"\"\n",
    "    driver = webdriver.Chrome()\n",
    "    driver.set_window_size(width, height, windowHandle='current')\n",
    "    time.sleep(1)\n",
    "    return driver"
   ]
  },
  {
   "cell_type": "markdown",
   "metadata": {},
   "source": [
    "**This function should do the following:**\n",
    "1. Find the number of rooms returned by the given min/max values\n",
    "2. If the number of rooms is greater than 300 then reduce the max until a number of rooms less than 300 is return\n",
    "3. Maximize the number of rooms returned such that the number of rooms returned is the largest amount less than 300"
   ]
  },
  {
   "cell_type": "code",
   "execution_count": 3,
   "metadata": {},
   "outputs": [
    {
     "name": "stdout",
     "output_type": "stream",
     "text": [
      "204\n"
     ]
    }
   ],
   "source": [
    "def find_room_count_for_range(url, driver, min_price=0, max_price=10):\n",
    "    \"\"\"Requests Airbnb listings and searches for the price range that yields the greatest number\n",
    "    of stays that is less than 300. The price range is returned as a tuple. The function adds $20\n",
    "    until it exceeds 299 stays. The function will do a binary search for the lowest price that will yield\n",
    "    the greatest number of stays that is less than 300.\n",
    "    \n",
    "    Inputs:\n",
    "        min_price: The minimum price to consider.\n",
    "    Outputs\n",
    "        (min, max) tuple. A tuple containing the minimum and maximum price range.\"\"\"\n",
    "    \n",
    "    offset = 0\n",
    "    \n",
    "    # Occasionally Airbnb will not return the room count data and the BeautifulSoup selector will return\n",
    "    # an empty list. The following loop will relaod the page until the room counts are returned. It will\n",
    "    # try 5 times.\n",
    "    for i in range(5):\n",
    "        try:\n",
    "            driver.get(url.format(min_price, max_price, offset))\n",
    "            time.sleep(5)\n",
    "            soup = BeautifulSoup(driver.page_source)\n",
    "            room_count = soup.select('div._1snxcqc')[0].string.split()[0]\n",
    "            room_count.replace('+', '')\n",
    "            room_count = int(room_count.replace('+', ''))\n",
    "            break\n",
    "        except Exception as e:\n",
    "            print(e)\n",
    "    \n",
    "    return room_count\n",
    "driver = setup_webdriver(1730, 1020)\n",
    "url = 'https://www.airbnb.com/s/Bogota--Colombia/homes?tab_id=home_tab&refinement_paths%5B%5D=%2Fhomes&place_id=ChIJKcumLf2bP44RFDmjIFVjnSM&source=structured_search_input_header&search_type=pagination&federated_search_session_id=43bfeb76-6669-4ea0-9fca-ad6e6789fb2a&query=Bogota%2C%20Colombia&checkin=2020-07-12&checkout=2020-07-15&price_min={}&price_max={}&room_types%5B%5D=Entire%20home%2Fapt&section_offset=4&items_offset={}'\n",
    "print(find_room_count_for_range(url, driver, max_price=16))\n",
    "# time.sleep(7)\n",
    "driver.close()"
   ]
  },
  {
   "cell_type": "code",
   "execution_count": 4,
   "metadata": {},
   "outputs": [
    {
     "name": "stdout",
     "output_type": "stream",
     "text": [
      "/home/scott/projects/mp2/src\n"
     ]
    }
   ],
   "source": [
    "!pwd"
   ]
  },
  {
   "cell_type": "code",
   "execution_count": 5,
   "metadata": {},
   "outputs": [],
   "source": [
    "def find_optimum_range(url, driver, min_price=0, max_price=20):\n",
    "    \"\"\"Finds the optimum praice range to get less than 300 stays.\n",
    "    \n",
    "    This function will:\n",
    "    1. Get the number of rooms at the given price range.\n",
    "    2. If more than 300 rooms are returned it will decrease the max_price until a value less than 300 rooms is returned.\n",
    "    3. If less than 300 rooms are returned it will increase the max_price until more than 300 rooms are returned.\n",
    "    4. Steps 2 & 3 will be repeated until a price range that will yield the largest number of rooms less than 300 is found.\"\"\"\n",
    "    \n",
    "    top = max_price + 500\n",
    "    bottom = min_price\n",
    "    room_count = find_room_count_for_range(url, driver, min_price, max_price)\n",
    "    \n",
    "    while(room_count >= 300 or (top > max_price + 1 and room_count > 0)):\n",
    "        if room_count >= 300:\n",
    "            top = max_price\n",
    "            max_price = bottom + (max_price - bottom) // 2\n",
    "        else:\n",
    "            bottom = max_price\n",
    "            max_price = max_price + (top - max_price) // 2\n",
    "        room_count = find_room_count_for_range(url, driver, min_price, max_price)\n",
    "    \n",
    "    return (room_count, min_price, max_price)\n",
    "            \n",
    "\n",
    "# driver = setup_webdriver(1730, 1020)\n",
    "# url = 'https://www.airbnb.com/s/Bogota--Colombia/homes?tab_id=home_tab&refinement_paths%5B%5D=%2Fhomes&place_id=ChIJKcumLf2bP44RFDmjIFVjnSM&source=structured_search_input_header&search_type=pagination&federated_search_session_id=43bfeb76-6669-4ea0-9fca-ad6e6789fb2a&query=Bogota%2C%20Colombia&checkin=2020-07-12&checkout=2020-07-15&price_min={}&price_max={}&room_types%5B%5D=Entire%20home%2Fapt&section_offset=4&items_offset={}'\n",
    "# print(find_optimum_range(url, driver, 0, 100))\n",
    "# driver.close()"
   ]
  },
  {
   "cell_type": "code",
   "execution_count": 6,
   "metadata": {},
   "outputs": [],
   "source": [
    "def get_price_ranges(url, driver, min_price=0, max_price=0):\n",
    "    price_ranges = []\n",
    "    last_count = 1\n",
    "    while(last_count > 0):\n",
    "        current_range = find_optimum_range(url, driver, min_price, max_price)\n",
    "        if current_range[0] > 0:\n",
    "            price_ranges.append(current_range)\n",
    "            min_price = current_range[2] + 1\n",
    "            max_price = current_range[2] + 1\n",
    "        last_count = current_range[0]\n",
    "    \n",
    "    return price_ranges\n",
    "# driver = setup_webdriver(1730, 1020)\n",
    "# url = 'https://www.airbnb.com/s/Bogota--Colombia/homes?tab_id=home_tab&refinement_paths%5B%5D=%2Fhomes&place_id=ChIJKcumLf2bP44RFDmjIFVjnSM&source=structured_search_input_header&search_type=pagination&federated_search_session_id=43bfeb76-6669-4ea0-9fca-ad6e6789fb2a&query=Bogota%2C%20Colombia&checkin=2020-07-12&checkout=2020-07-15&price_min={}&price_max={}&room_types%5B%5D=Entire%20home%2Fapt&section_offset=4&items_offset={}'\n",
    "# print(get_price_ranges(url, driver, 0, 100))\n",
    "# driver.close()"
   ]
  },
  {
   "cell_type": "code",
   "execution_count": 7,
   "metadata": {},
   "outputs": [],
   "source": [
    "def get_cleaning_fee(price_item_list):\n",
    "    \"\"\"Applies a filter to get the pricing item that is the cleaning.\"\"\"\n",
    "    def cleaning_fee_filter(item):\n",
    "        return item['localizedTitle'] == 'Cleaning fee'\n",
    "    cleaning_fee_item = list(filter(cleaning_fee_filter, price_item_list))\n",
    "    if cleaning_fee_item:\n",
    "        return cleaning_fee_item[0]['total']['amount']\n",
    "    else:\n",
    "        return 0\n",
    "                             \n",
    "# stays[0]['pricingQuote']['price']['priceItems']))[0]['total']['amount']"
   ]
  },
  {
   "cell_type": "code",
   "execution_count": 8,
   "metadata": {},
   "outputs": [
    {
     "data": {
      "text/plain": [
       "'one_1_two_2_three_{}'"
      ]
     },
     "execution_count": 8,
     "metadata": {},
     "output_type": "execute_result"
    }
   ],
   "source": [
    "def format_url(url, price_range):\n",
    "    \"\"\"Accepts a url and a price_range tuple and will format the url with the information\n",
    "    in the tuple. The offset will be filled with the '{}' string and the offset value will be\n",
    "    formated when paging through the Airbnb listings.\"\"\"\n",
    "    \n",
    "    return url.format(price_range[1], price_range[2], '{}')\n",
    "format_url('one_{}_two_{}_three_{}', (0, 1, 2, 3))"
   ]
  },
  {
   "cell_type": "code",
   "execution_count": 25,
   "metadata": {},
   "outputs": [],
   "source": [
    "def get_listings(driver, url, price_ranges):\n",
    "    driver.switch_to.window(driver.window_handles[0])\n",
    "    stays_added = 0\n",
    "    seen_ids = set()\n",
    "    stay_dict = defaultdict(list)\n",
    "    dup_dict = defaultdict(list)\n",
    "    for pr in price_ranges:\n",
    "        keep_looping = True\n",
    "        offset = 0\n",
    "        print(pr)\n",
    "        while keep_looping:\n",
    "            stays_added = 0\n",
    "            driver.get(format_url(url, pr).format(offset))\n",
    "            time.sleep(10)\n",
    "            soup = BeautifulSoup(driver.page_source)\n",
    "            json_dict = soup.select('script#data-state')\n",
    "            listings = json.loads(json_dict[0].string)\n",
    "            page_nbrs = number_of_stays_page_bottom(soup)\n",
    "            print(page_nbrs)\n",
    "            try:\n",
    "                stays = listings['niobeClientData']['__niobe_denormalized']['queries'][0][1]['dora']['exploreV3']['sections'][0]['items']\n",
    "                update_offset = True\n",
    "            except Exception as e:\n",
    "                print(e)\n",
    "                print('Failed to read stay data. Relaoding Page')\n",
    "                update_offset = False\n",
    "                with open('page-source_{}.txt'.format(datetime.now().strftime('%m-%d-%Y--%H-%M-%S')), 'w+') as f:\n",
    "                    f.write(soup.prettify())\n",
    "                    exit()\n",
    "            for stay in stays:\n",
    "                current_id = stay['listing']['id']\n",
    "                if current_id in seen_ids:\n",
    "    #                 print('Duplicate ID:', current_id)\n",
    "                    dup_dict['sid'].append(stay['listing']['id'])\n",
    "                    dup_dict['guests'].append(stay['listing']['personCapacity'])\n",
    "                    dup_dict['bedrooms'].append(stay['listing']['bedrooms'])\n",
    "                    dup_dict['beds'].append(stay['listing']['beds'])\n",
    "                    dup_dict['bathrooms'].append(stay['listing']['bathrooms'])\n",
    "                    dup_dict['amenities'].append(stay['listing']['amenityIds'])\n",
    "                    dup_dict['superhost'].append(stay['listing']['isSuperhost'])\n",
    "                    dup_dict['starRating'].append(stay['listing']['avgRating'])\n",
    "                    dup_dict['amount'].append(stay['pricingQuote']['price']['total']['amount'])\n",
    "                    dup_dict['cleaning_fee'].append(get_cleaning_fee(stay['pricingQuote']['price']['priceItems']))\n",
    "                else:\n",
    "                    seen_ids.add(current_id)\n",
    "                    stays_added += 1\n",
    "                    stay_dict['sid'].append(stay['listing']['id'])\n",
    "                    stay_dict['guests'].append(stay['listing']['personCapacity'])\n",
    "                    stay_dict['bedrooms'].append(stay['listing']['bedrooms'])\n",
    "                    stay_dict['beds'].append(stay['listing']['beds'])\n",
    "                    stay_dict['bathrooms'].append(stay['listing']['bathrooms'])\n",
    "                    stay_dict['amenities'].append(stay['listing']['amenityIds'])\n",
    "                    stay_dict['superhost'].append(stay['listing']['isSuperhost'])\n",
    "                    stay_dict['starRating'].append(stay['listing']['avgRating'])\n",
    "                    stay_dict['amount'].append(stay['pricingQuote']['price']['total']['amount'])\n",
    "                    stay_dict['cleaning_fee'].append(get_cleaning_fee(stay['pricingQuote']['price']['priceItems']))\n",
    "            if page_nbrs[1] == page_nbrs[2]:\n",
    "                keep_looping = False\n",
    "            if update_offset:\n",
    "                offset += 20\n",
    "    return (stay_dict, dup_dict)"
   ]
  },
  {
   "cell_type": "code",
   "execution_count": 10,
   "metadata": {},
   "outputs": [
    {
     "data": {
      "text/plain": [
       "[(239, 0, 15),\n",
       " (280, 16, 19),\n",
       " (274, 20, 23),\n",
       " (295, 24, 27),\n",
       " (232, 28, 31),\n",
       " (278, 32, 37),\n",
       " (280, 38, 42),\n",
       " (247, 43, 49),\n",
       " (295, 50, 61),\n",
       " (238, 62, 79),\n",
       " (298, 80, 149),\n",
       " (147, 150, 649)]"
      ]
     },
     "execution_count": 10,
     "metadata": {},
     "output_type": "execute_result"
    }
   ],
   "source": [
    "# prs = [(237, 0, 16), (255, 17, 20)]\n",
    "driver = setup_webdriver(1730, 1020)\n",
    "url = 'https://www.airbnb.com/s/Bogota--Colombia/homes?tab_id=home_tab&refinement_paths%5B%5D=%2Fhomes&place_id=ChIJKcumLf2bP44RFDmjIFVjnSM&source=structured_search_input_header&search_type=pagination&federated_search_session_id=43bfeb76-6669-4ea0-9fca-ad6e6789fb2a&query=Bogota%2C%20Colombia&checkin=2020-08-09&checkout=2020-08-12&price_min={}&price_max={}&room_types%5B%5D=Entire%20home%2Fapt&section_offset=4&items_offset={}'\n",
    "prs = get_price_ranges(url, driver )\n",
    "prs"
   ]
  },
  {
   "cell_type": "code",
   "execution_count": 26,
   "metadata": {},
   "outputs": [
    {
     "data": {
      "text/plain": [
       "[(239, 0, 15),\n",
       " (280, 16, 19),\n",
       " (274, 20, 23),\n",
       " (295, 24, 27),\n",
       " (232, 28, 31),\n",
       " (278, 32, 37),\n",
       " (280, 38, 42),\n",
       " (247, 43, 49),\n",
       " (295, 50, 61),\n",
       " (238, 62, 79),\n",
       " (298, 80, 149),\n",
       " (147, 150, 649)]"
      ]
     },
     "execution_count": 26,
     "metadata": {},
     "output_type": "execute_result"
    }
   ],
   "source": [
    "prs"
   ]
  },
  {
   "cell_type": "code",
   "execution_count": 27,
   "metadata": {},
   "outputs": [
    {
     "name": "stdout",
     "output_type": "stream",
     "text": [
      "(239, 0, 15)\n",
      "[1, 20, 239]\n",
      "[21, 40, 239]\n",
      "'niobeClientData'\n",
      "Failed to read stay data. Relaoding Page\n",
      "[21, 40, 239]\n",
      "'niobeClientData'\n",
      "Failed to read stay data. Relaoding Page\n",
      "[21, 40, 239]\n",
      "'niobeClientData'\n",
      "Failed to read stay data. Relaoding Page\n",
      "[21, 40, 239]\n",
      "'niobeClientData'\n",
      "Failed to read stay data. Relaoding Page\n",
      "[21, 40, 239]\n",
      "'niobeClientData'\n",
      "Failed to read stay data. Relaoding Page\n",
      "[21, 40, 239]\n",
      "'niobeClientData'\n",
      "Failed to read stay data. Relaoding Page\n",
      "[21, 40, 239]\n",
      "'niobeClientData'\n",
      "Failed to read stay data. Relaoding Page\n",
      "[21, 40, 239]\n",
      "'niobeClientData'\n",
      "Failed to read stay data. Relaoding Page\n",
      "[21, 40, 239]\n",
      "'niobeClientData'\n",
      "Failed to read stay data. Relaoding Page\n",
      "[21, 40, 239]\n",
      "'niobeClientData'\n",
      "Failed to read stay data. Relaoding Page\n",
      "[21, 40, 239]\n",
      "'niobeClientData'\n",
      "Failed to read stay data. Relaoding Page\n",
      "[21, 40, 239]\n",
      "'niobeClientData'\n",
      "Failed to read stay data. Relaoding Page\n"
     ]
    },
    {
     "ename": "KeyboardInterrupt",
     "evalue": "",
     "output_type": "error",
     "traceback": [
      "\u001b[0;31m---------------------------------------------------------------------------\u001b[0m",
      "\u001b[0;31mKeyboardInterrupt\u001b[0m                         Traceback (most recent call last)",
      "\u001b[0;32m<ipython-input-27-9f788e12be24>\u001b[0m in \u001b[0;36m<module>\u001b[0;34m\u001b[0m\n\u001b[1;32m      1\u001b[0m \u001b[0mdriver\u001b[0m \u001b[0;34m=\u001b[0m \u001b[0msetup_webdriver\u001b[0m\u001b[0;34m(\u001b[0m\u001b[0;36m1730\u001b[0m\u001b[0;34m,\u001b[0m \u001b[0;36m1020\u001b[0m\u001b[0;34m)\u001b[0m\u001b[0;34m\u001b[0m\u001b[0;34m\u001b[0m\u001b[0m\n\u001b[1;32m      2\u001b[0m \u001b[0murl\u001b[0m \u001b[0;34m=\u001b[0m \u001b[0;34m'https://www.airbnb.com/s/Bogota--Colombia/homes?tab_id=home_tab&refinement_paths%5B%5D=%2Fhomes&place_id=ChIJKcumLf2bP44RFDmjIFVjnSM&source=structured_search_input_header&search_type=pagination&federated_search_session_id=43bfeb76-6669-4ea0-9fca-ad6e6789fb2a&query=Bogota%2C%20Colombia&checkin=2020-08-09&checkout=2020-08-12&price_min={}&price_max={}&room_types%5B%5D=Entire%20home%2Fapt&section_offset=4&items_offset={}'\u001b[0m\u001b[0;34m\u001b[0m\u001b[0;34m\u001b[0m\u001b[0m\n\u001b[0;32m----> 3\u001b[0;31m \u001b[0mstays\u001b[0m\u001b[0;34m,\u001b[0m \u001b[0mdups\u001b[0m \u001b[0;34m=\u001b[0m \u001b[0mget_listings\u001b[0m\u001b[0;34m(\u001b[0m\u001b[0mdriver\u001b[0m\u001b[0;34m,\u001b[0m \u001b[0murl\u001b[0m\u001b[0;34m,\u001b[0m \u001b[0mprs\u001b[0m\u001b[0;34m)\u001b[0m\u001b[0;34m\u001b[0m\u001b[0;34m\u001b[0m\u001b[0m\n\u001b[0m\u001b[1;32m      4\u001b[0m \u001b[0mdriver\u001b[0m\u001b[0;34m.\u001b[0m\u001b[0mclose\u001b[0m\u001b[0;34m(\u001b[0m\u001b[0;34m)\u001b[0m\u001b[0;34m\u001b[0m\u001b[0;34m\u001b[0m\u001b[0m\n",
      "\u001b[0;32m<ipython-input-25-1195f1de542e>\u001b[0m in \u001b[0;36mget_listings\u001b[0;34m(driver, url, price_ranges)\u001b[0m\n\u001b[1;32m     12\u001b[0m             \u001b[0mstays_added\u001b[0m \u001b[0;34m=\u001b[0m \u001b[0;36m0\u001b[0m\u001b[0;34m\u001b[0m\u001b[0;34m\u001b[0m\u001b[0m\n\u001b[1;32m     13\u001b[0m             \u001b[0mdriver\u001b[0m\u001b[0;34m.\u001b[0m\u001b[0mget\u001b[0m\u001b[0;34m(\u001b[0m\u001b[0mformat_url\u001b[0m\u001b[0;34m(\u001b[0m\u001b[0murl\u001b[0m\u001b[0;34m,\u001b[0m \u001b[0mpr\u001b[0m\u001b[0;34m)\u001b[0m\u001b[0;34m.\u001b[0m\u001b[0mformat\u001b[0m\u001b[0;34m(\u001b[0m\u001b[0moffset\u001b[0m\u001b[0;34m)\u001b[0m\u001b[0;34m)\u001b[0m\u001b[0;34m\u001b[0m\u001b[0;34m\u001b[0m\u001b[0m\n\u001b[0;32m---> 14\u001b[0;31m             \u001b[0mtime\u001b[0m\u001b[0;34m.\u001b[0m\u001b[0msleep\u001b[0m\u001b[0;34m(\u001b[0m\u001b[0;36m10\u001b[0m\u001b[0;34m)\u001b[0m\u001b[0;34m\u001b[0m\u001b[0;34m\u001b[0m\u001b[0m\n\u001b[0m\u001b[1;32m     15\u001b[0m             \u001b[0msoup\u001b[0m \u001b[0;34m=\u001b[0m \u001b[0mBeautifulSoup\u001b[0m\u001b[0;34m(\u001b[0m\u001b[0mdriver\u001b[0m\u001b[0;34m.\u001b[0m\u001b[0mpage_source\u001b[0m\u001b[0;34m)\u001b[0m\u001b[0;34m\u001b[0m\u001b[0;34m\u001b[0m\u001b[0m\n\u001b[1;32m     16\u001b[0m             \u001b[0mjson_dict\u001b[0m \u001b[0;34m=\u001b[0m \u001b[0msoup\u001b[0m\u001b[0;34m.\u001b[0m\u001b[0mselect\u001b[0m\u001b[0;34m(\u001b[0m\u001b[0;34m'script#data-state'\u001b[0m\u001b[0;34m)\u001b[0m\u001b[0;34m\u001b[0m\u001b[0;34m\u001b[0m\u001b[0m\n",
      "\u001b[0;31mKeyboardInterrupt\u001b[0m: "
     ]
    }
   ],
   "source": [
    "driver = setup_webdriver(1730, 1020)\n",
    "url = 'https://www.airbnb.com/s/Bogota--Colombia/homes?tab_id=home_tab&refinement_paths%5B%5D=%2Fhomes&place_id=ChIJKcumLf2bP44RFDmjIFVjnSM&source=structured_search_input_header&search_type=pagination&federated_search_session_id=43bfeb76-6669-4ea0-9fca-ad6e6789fb2a&query=Bogota%2C%20Colombia&checkin=2020-08-09&checkout=2020-08-12&price_min={}&price_max={}&room_types%5B%5D=Entire%20home%2Fapt&section_offset=4&items_offset={}'\n",
    "stays, dups = get_listings(driver, url, prs)\n",
    "driver.close()"
   ]
  },
  {
   "cell_type": "code",
   "execution_count": null,
   "metadata": {},
   "outputs": [],
   "source": [
    "    df = pd.DataFrame(stays)\n",
    "df.head()"
   ]
  },
  {
   "cell_type": "code",
   "execution_count": null,
   "metadata": {},
   "outputs": [],
   "source": [
    "df.corr()"
   ]
  },
  {
   "cell_type": "code",
   "execution_count": null,
   "metadata": {},
   "outputs": [],
   "source": [
    "datetime.now().strftime('%m-%d-%Y--%H-%M-%S')"
   ]
  },
  {
   "cell_type": "code",
   "execution_count": 7,
   "metadata": {},
   "outputs": [],
   "source": [
    "driver = setup_webdriver(1100, 1020)"
   ]
  },
  {
   "cell_type": "code",
   "execution_count": 8,
   "metadata": {},
   "outputs": [
    {
     "data": {
      "text/plain": [
       "{'width': 1100, 'height': 1020}"
      ]
     },
     "execution_count": 8,
     "metadata": {},
     "output_type": "execute_result"
    }
   ],
   "source": [
    "driver.get_window_size()"
   ]
  },
  {
   "cell_type": "code",
   "execution_count": 4,
   "metadata": {},
   "outputs": [
    {
     "data": {
      "text/plain": [
       "bs4.BeautifulSoup"
      ]
     },
     "execution_count": 4,
     "metadata": {},
     "output_type": "execute_result"
    }
   ],
   "source": [
    "driver = setup_webdriver(1730, 1020)\n",
    "url = 'https://www.airbnb.com/s/Bogota--Colombia/homes?tab_id=home_tab&refinement_paths%5B%5D=%2Fhomes&place_id=ChIJKcumLf2bP44RFDmjIFVjnSM&source=structured_search_input_header&search_type=pagination&federated_search_session_id=43bfeb76-6669-4ea0-9fca-ad6e6789fb2a&query=Bogota%2C%20Colombia&checkin=2020-07-12&checkout=2020-07-15&price_min={}&price_max={}&room_types%5B%5D=Entire%20home%2Fapt&section_offset=4&items_offset={}'\n",
    "driver.get(url)\n",
    "time.sleep(5)\n",
    "soup = BeautifulSoup(driver.page_source)\n",
    "type(soup)"
   ]
  },
  {
   "cell_type": "code",
   "execution_count": 11,
   "metadata": {},
   "outputs": [
    {
     "data": {
      "text/plain": [
       "315"
      ]
     },
     "execution_count": 11,
     "metadata": {},
     "output_type": "execute_result"
    }
   ],
   "source": [
    "len(soup.select('div'))"
   ]
  },
  {
   "cell_type": "code",
   "execution_count": 15,
   "metadata": {},
   "outputs": [],
   "source": [
    "def page_offset():\n",
    "    n = 0\n",
    "    while True:\n",
    "        yield n\n",
    "        n += 20\n",
    "p = page_offset()"
   ]
  },
  {
   "cell_type": "code",
   "execution_count": 18,
   "metadata": {},
   "outputs": [
    {
     "data": {
      "text/plain": [
       "40"
      ]
     },
     "execution_count": 18,
     "metadata": {},
     "output_type": "execute_result"
    }
   ],
   "source": [
    "next(p)"
   ]
  },
  {
   "cell_type": "code",
   "execution_count": 19,
   "metadata": {},
   "outputs": [
    {
     "data": {
      "text/plain": [
       "60"
      ]
     },
     "execution_count": 19,
     "metadata": {},
     "output_type": "execute_result"
    }
   ],
   "source": [
    "next(p)"
   ]
  },
  {
   "cell_type": "code",
   "execution_count": null,
   "metadata": {},
   "outputs": [],
   "source": []
  }
 ],
 "metadata": {
  "kernelspec": {
   "display_name": "Python [conda env:abb] *",
   "language": "python",
   "name": "conda-env-abb-py"
  },
  "language_info": {
   "codemirror_mode": {
    "name": "ipython",
    "version": 3
   },
   "file_extension": ".py",
   "mimetype": "text/x-python",
   "name": "python",
   "nbconvert_exporter": "python",
   "pygments_lexer": "ipython3",
   "version": "3.7.7"
  }
 },
 "nbformat": 4,
 "nbformat_minor": 4
}
