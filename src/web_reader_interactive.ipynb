{
 "cells": [
  {
   "cell_type": "code",
   "execution_count": 1,
   "metadata": {},
   "outputs": [],
   "source": [
    "# Imports\n",
    "import pandas as pd\n",
    "from selenium import webdriver\n",
    "from selenium.webdriver.support.ui import WebDriverWait\n",
    "from selenium.webdriver.common.by import By\n",
    "from selenium.webdriver.support import expected_conditions as EC\n",
    "from bs4 import BeautifulSoup\n",
    "import json\n",
    "import time\n",
    "import re\n",
    "from collections import defaultdict\n",
    "from airbnb_lib import number_of_stays_page_bottom"
   ]
  },
  {
   "cell_type": "code",
   "execution_count": 2,
   "metadata": {},
   "outputs": [],
   "source": [
    "def setup_webdriver(width=800, height=600):\n",
    "    \"\"\"Opens a chrome window and sets the size of the window. The webdriver object is returned.\"\"\"\n",
    "    driver = webdriver.Chrome()\n",
    "    driver.set_window_size(width, height, windowHandle='current')\n",
    "    time.sleep(1)\n",
    "    return driver"
   ]
  },
  {
   "cell_type": "markdown",
   "metadata": {},
   "source": [
    "**This function should do the following:**\n",
    "1. Find the number of rooms returned by the given min/max values\n",
    "2. If the number of rooms is greater than 300 then reduce the max until a number of rooms less than 300 is return\n",
    "3. Maximize the number of rooms returned such that the number of rooms returned is the largest amount less than 300"
   ]
  },
  {
   "cell_type": "code",
   "execution_count": 3,
   "metadata": {},
   "outputs": [],
   "source": [
    "def find_room_count_for_range(url, driver, min_price=0, max_price=10):\n",
    "    \"\"\"Requests Airbnb listings and searches for the price range that yields the greatest number\n",
    "    of stays that is less than 300. The price range is returned as a tuple. The function adds $20\n",
    "    until it exceeds 299 stays. The function will do a binary search for the lowest price that will yield\n",
    "    the greatest number of stays that is less than 300.\n",
    "    \n",
    "    Inputs:\n",
    "        min_price: The minimum price to consider.\n",
    "    Outputs\n",
    "        (min, max) tuple. A tuple containing the minimum and maximum price range.\"\"\"\n",
    "    \n",
    "    offset = 0\n",
    "    \n",
    "    # Occasionally Airbnb will not return the room count data and the BeautifulSoup selector will return\n",
    "    # an empty list. The following loop will relaod the page until the room counts are returned. It will\n",
    "    # try 5 times.\n",
    "    for i in range(5):\n",
    "        try:\n",
    "            driver.get(url.format(min_price, max_price, offset))\n",
    "            time.sleep(5)\n",
    "            soup = BeautifulSoup(driver.page_source)\n",
    "            room_count = soup.select('div._1snxcqc')[0].string.split()[0]\n",
    "            room_count.replace('+', '')\n",
    "            room_count = int(room_count.replace('+', ''))\n",
    "            break\n",
    "        except Exception as e:\n",
    "            print(e)\n",
    "    \n",
    "    return room_count\n",
    "# driver = setup_webdriver(1730, 1020)\n",
    "# url = 'https://www.airbnb.com/s/Bogota--Colombia/homes?tab_id=home_tab&refinement_paths%5B%5D=%2Fhomes&place_id=ChIJKcumLf2bP44RFDmjIFVjnSM&source=structured_search_input_header&search_type=pagination&federated_search_session_id=43bfeb76-6669-4ea0-9fca-ad6e6789fb2a&query=Bogota%2C%20Colombia&checkin=2020-07-12&checkout=2020-07-15&price_min={}&price_max={}&room_types%5B%5D=Entire%20home%2Fapt&section_offset=4&items_offset={}'\n",
    "# print(find_room_count_for_range(url, driver, max_price=16))\n",
    "# # time.sleep(7)\n",
    "# driver.close()"
   ]
  },
  {
   "cell_type": "code",
   "execution_count": 4,
   "metadata": {},
   "outputs": [
    {
     "name": "stdout",
     "output_type": "stream",
     "text": [
      "/home/scott/projects/mp2/src\n"
     ]
    }
   ],
   "source": [
    "!pwd"
   ]
  },
  {
   "cell_type": "code",
   "execution_count": 5,
   "metadata": {},
   "outputs": [],
   "source": [
    "def find_optimum_range(url, driver, min_price=0, max_price=20):\n",
    "    \"\"\"Finds the optimum praice range to get less than 300 stays.\n",
    "    \n",
    "    This function will:\n",
    "    1. Get the number of rooms at the given price range.\n",
    "    2. If more than 300 rooms are returned it will decrease the max_price until a value less than 300 rooms is returned.\n",
    "    3. If less than 300 rooms are returned it will increase the max_price until more than 300 rooms are returned.\n",
    "    4. Steps 2 & 3 will be repeated until a price range that will yield the largest number of rooms less than 300 is found.\"\"\"\n",
    "    \n",
    "    top = max_price + 500\n",
    "    bottom = min_price\n",
    "    room_count = find_room_count_for_range(url, driver, min_price, max_price)\n",
    "    \n",
    "    while(room_count >= 300 or (top > max_price + 1 and room_count > 0)):\n",
    "        if room_count >= 300:\n",
    "            top = max_price\n",
    "            max_price = bottom + (max_price - bottom) // 2\n",
    "        else:\n",
    "            bottom = max_price\n",
    "            max_price = max_price + (top - max_price) // 2\n",
    "        room_count = find_room_count_for_range(url, driver, min_price, max_price)\n",
    "    \n",
    "    return (room_count, min_price, max_price)\n",
    "            \n",
    "\n",
    "# driver = setup_webdriver(1730, 1020)\n",
    "# url = 'https://www.airbnb.com/s/Bogota--Colombia/homes?tab_id=home_tab&refinement_paths%5B%5D=%2Fhomes&place_id=ChIJKcumLf2bP44RFDmjIFVjnSM&source=structured_search_input_header&search_type=pagination&federated_search_session_id=43bfeb76-6669-4ea0-9fca-ad6e6789fb2a&query=Bogota%2C%20Colombia&checkin=2020-07-12&checkout=2020-07-15&price_min={}&price_max={}&room_types%5B%5D=Entire%20home%2Fapt&section_offset=4&items_offset={}'\n",
    "# print(find_optimum_range(url, driver, 0, 100))\n",
    "# driver.close()"
   ]
  },
  {
   "cell_type": "code",
   "execution_count": 6,
   "metadata": {},
   "outputs": [],
   "source": [
    "def get_price_ranges(url, driver, min_price=0, max_price=0):\n",
    "    price_ranges = []\n",
    "    last_count = 1\n",
    "    while(last_count > 0):\n",
    "        current_range = find_optimum_range(url, driver, min_price, max_price)\n",
    "        if current_range[0] > 0:\n",
    "            price_ranges.append(current_range)\n",
    "            min_price = current_range[2] + 1\n",
    "            max_price = current_range[2] + 1\n",
    "        last_count = current_range[0]\n",
    "    \n",
    "    return price_ranges\n",
    "# driver = setup_webdriver(1730, 1020)\n",
    "# url = 'https://www.airbnb.com/s/Bogota--Colombia/homes?tab_id=home_tab&refinement_paths%5B%5D=%2Fhomes&place_id=ChIJKcumLf2bP44RFDmjIFVjnSM&source=structured_search_input_header&search_type=pagination&federated_search_session_id=43bfeb76-6669-4ea0-9fca-ad6e6789fb2a&query=Bogota%2C%20Colombia&checkin=2020-07-12&checkout=2020-07-15&price_min={}&price_max={}&room_types%5B%5D=Entire%20home%2Fapt&section_offset=4&items_offset={}'\n",
    "# print(get_price_ranges(url, driver, 0, 100))\n",
    "# driver.close()"
   ]
  },
  {
   "cell_type": "code",
   "execution_count": 7,
   "metadata": {},
   "outputs": [],
   "source": [
    "def get_cleaning_fee(price_item_list):\n",
    "    \"\"\"Applies a filter to get the pricing item that is the cleaning.\"\"\"\n",
    "    def cleaning_fee_filter(item):\n",
    "        return item['localizedTitle'] == 'Cleaning fee'\n",
    "    cleaning_fee_item = list(filter(cleaning_fee_filter, price_item_list))\n",
    "    if cleaning_fee_item:\n",
    "        return cleaning_fee_item[0]['total']['amount']\n",
    "    else:\n",
    "        return 0\n",
    "                             \n",
    "# stays[0]['pricingQuote']['price']['priceItems']))[0]['total']['amount']"
   ]
  },
  {
   "cell_type": "code",
   "execution_count": 8,
   "metadata": {},
   "outputs": [
    {
     "data": {
      "text/plain": [
       "'one_1_two_2_three_{}'"
      ]
     },
     "execution_count": 8,
     "metadata": {},
     "output_type": "execute_result"
    }
   ],
   "source": [
    "def format_url(url, price_range):\n",
    "    \"\"\"Accepts a url and a price_range tuple and will format the url with the information\n",
    "    in the tuple. The offset will be filled with the '{}' string and the offset value will be\n",
    "    formated when paging through the Airbnb listings.\"\"\"\n",
    "    \n",
    "    return url.format(price_range[1], price_range[2], '{}')\n",
    "format_url('one_{}_two_{}_three_{}', (0, 1, 2, 3))"
   ]
  },
  {
   "cell_type": "code",
   "execution_count": 24,
   "metadata": {},
   "outputs": [],
   "source": [
    "def get_listings(driver, url, price_ranges):\n",
    "    driver.switch_to.window(driver.window_handles[0])\n",
    "    stays_added = 0\n",
    "    seen_ids = set()\n",
    "    stay_dict = defaultdict(list)\n",
    "    dup_dict = defaultdict(list)\n",
    "    for pr in price_ranges:\n",
    "        keep_looping = True\n",
    "        offset = 0\n",
    "        while keep_looping:\n",
    "            stays_added = 0\n",
    "            driver.get(format_url(url, pr).format(offset))\n",
    "            time.sleep(6)\n",
    "            soup = BeautifulSoup(driver.page_source)\n",
    "            json_dict = soup.select('script#data-state')\n",
    "            listings = json.loads(json_dict[0].string)\n",
    "            page_nbrs = number_of_stays_page_bottom(soup)\n",
    "            print(page_nbrs)\n",
    "            stays = listings['niobeClientData']['__niobe_denormalized']['queries'][0][1]['dora']['exploreV3']['sections'][0]['items']\n",
    "            for stay in stays:\n",
    "                current_id = stay['listing']['id']\n",
    "                if current_id in seen_ids:\n",
    "    #                 print('Duplicate ID:', current_id)\n",
    "                    dup_dict['sid'].append(stay['listing']['id'])\n",
    "                    dup_dict['guests'].append(stay['listing']['personCapacity'])\n",
    "                    dup_dict['bedrooms'].append(stay['listing']['bedrooms'])\n",
    "                    dup_dict['beds'].append(stay['listing']['beds'])\n",
    "                    dup_dict['bathrooms'].append(stay['listing']['bathrooms'])\n",
    "                    dup_dict['amenities'].append(stay['listing']['amenityIds'])\n",
    "                    dup_dict['superhost'].append(stay['listing']['isSuperhost'])\n",
    "                    dup_dict['starRating'].append(stay['listing']['avgRating'])\n",
    "                    dup_dict['amount'].append(stay['pricingQuote']['price']['total']['amount'])\n",
    "                    dup_dict['cleaning_fee'].append(get_cleaning_fee(stay['pricingQuote']['price']['priceItems']))\n",
    "                else:\n",
    "                    seen_ids.add(current_id)\n",
    "                    stays_added += 1\n",
    "                    stay_dict['sid'].append(stay['listing']['id'])\n",
    "                    stay_dict['guests'].append(stay['listing']['personCapacity'])\n",
    "                    stay_dict['bedrooms'].append(stay['listing']['bedrooms'])\n",
    "                    stay_dict['beds'].append(stay['listing']['beds'])\n",
    "                    stay_dict['bathrooms'].append(stay['listing']['bathrooms'])\n",
    "                    stay_dict['amenities'].append(stay['listing']['amenityIds'])\n",
    "                    stay_dict['superhost'].append(stay['listing']['isSuperhost'])\n",
    "                    stay_dict['starRating'].append(stay['listing']['avgRating'])\n",
    "                    stay_dict['amount'].append(stay['pricingQuote']['price']['total']['amount'])\n",
    "                    stay_dict['cleaning_fee'].append(get_cleaning_fee(stay['pricingQuote']['price']['priceItems']))\n",
    "            if page_nbrs[1] == page_nbrs[2]:\n",
    "                keep_looping = False\n",
    "            offset += 20\n",
    "    return (stay_dict, dup_dict)"
   ]
  },
  {
   "cell_type": "code",
   "execution_count": 25,
   "metadata": {},
   "outputs": [
    {
     "data": {
      "text/plain": [
       "[(237, 0, 16), (255, 17, 20)]"
      ]
     },
     "execution_count": 25,
     "metadata": {},
     "output_type": "execute_result"
    }
   ],
   "source": [
    "prs = [(237, 0, 16), (255, 17, 20)]\n",
    "prs"
   ]
  },
  {
   "cell_type": "code",
   "execution_count": 26,
   "metadata": {},
   "outputs": [
    {
     "name": "stdout",
     "output_type": "stream",
     "text": [
      "[1, 20, 237]\n",
      "[21, 40, 237]\n",
      "[41, 60, 237]\n",
      "[61, 80, 237]\n",
      "[81, 100, 237]\n",
      "[101, 120, 237]\n",
      "[121, 140, 237]\n",
      "[141, 160, 237]\n",
      "[161, 180, 237]\n",
      "[181, 200, 237]\n",
      "[201, 220, 237]\n",
      "[221, 237, 237]\n",
      "[1, 20, 254]\n",
      "[21, 40, 254]\n",
      "[41, 60, 254]\n",
      "[61, 80, 254]\n",
      "[81, 100, 254]\n",
      "[101, 120, 254]\n",
      "[121, 140, 254]\n",
      "[141, 160, 254]\n",
      "[161, 180, 254]\n",
      "[181, 200, 254]\n",
      "[201, 220, 254]\n",
      "[221, 240, 254]\n",
      "[241, 254, 254]\n"
     ]
    }
   ],
   "source": [
    "driver = setup_webdriver(1730, 1020)\n",
    "url = 'https://www.airbnb.com/s/Bogota--Colombia/homes?tab_id=home_tab&refinement_paths%5B%5D=%2Fhomes&place_id=ChIJKcumLf2bP44RFDmjIFVjnSM&source=structured_search_input_header&search_type=pagination&federated_search_session_id=43bfeb76-6669-4ea0-9fca-ad6e6789fb2a&query=Bogota%2C%20Colombia&checkin=2020-07-12&checkout=2020-07-15&price_min={}&price_max={}&room_types%5B%5D=Entire%20home%2Fapt&section_offset=4&items_offset={}'\n",
    "stays, dups = get_listings(driver, url, prs)\n",
    "driver.close()"
   ]
  },
  {
   "cell_type": "code",
   "execution_count": 28,
   "metadata": {},
   "outputs": [
    {
     "data": {
      "text/html": [
       "<div>\n",
       "<style scoped>\n",
       "    .dataframe tbody tr th:only-of-type {\n",
       "        vertical-align: middle;\n",
       "    }\n",
       "\n",
       "    .dataframe tbody tr th {\n",
       "        vertical-align: top;\n",
       "    }\n",
       "\n",
       "    .dataframe thead th {\n",
       "        text-align: right;\n",
       "    }\n",
       "</style>\n",
       "<table border=\"1\" class=\"dataframe\">\n",
       "  <thead>\n",
       "    <tr style=\"text-align: right;\">\n",
       "      <th></th>\n",
       "      <th>sid</th>\n",
       "      <th>guests</th>\n",
       "      <th>bedrooms</th>\n",
       "      <th>beds</th>\n",
       "      <th>bathrooms</th>\n",
       "      <th>amenities</th>\n",
       "      <th>superhost</th>\n",
       "      <th>starRating</th>\n",
       "      <th>amount</th>\n",
       "      <th>cleaning_fee</th>\n",
       "    </tr>\n",
       "  </thead>\n",
       "  <tbody>\n",
       "    <tr>\n",
       "      <th>0</th>\n",
       "      <td>18669058</td>\n",
       "      <td>2</td>\n",
       "      <td>1</td>\n",
       "      <td>1.0</td>\n",
       "      <td>1.0</td>\n",
       "      <td>[1, 4, 8, 10, 77, 21, 89, 90, 91, 92, 93, 96, ...</td>\n",
       "      <td>False</td>\n",
       "      <td>4.70</td>\n",
       "      <td>37</td>\n",
       "      <td>5</td>\n",
       "    </tr>\n",
       "    <tr>\n",
       "      <th>1</th>\n",
       "      <td>39965150</td>\n",
       "      <td>2</td>\n",
       "      <td>1</td>\n",
       "      <td>1.0</td>\n",
       "      <td>1.0</td>\n",
       "      <td>[1, 2, 4, 8, 10, 77, 21, 86, 89, 90, 91, 93, 9...</td>\n",
       "      <td>True</td>\n",
       "      <td>4.84</td>\n",
       "      <td>65</td>\n",
       "      <td>12</td>\n",
       "    </tr>\n",
       "    <tr>\n",
       "      <th>2</th>\n",
       "      <td>39032523</td>\n",
       "      <td>4</td>\n",
       "      <td>2</td>\n",
       "      <td>2.0</td>\n",
       "      <td>1.0</td>\n",
       "      <td>[96, 1, 2, 4, 103, 40, 8, 10, 44, 45, 77, 89, ...</td>\n",
       "      <td>False</td>\n",
       "      <td>4.40</td>\n",
       "      <td>62</td>\n",
       "      <td>18</td>\n",
       "    </tr>\n",
       "    <tr>\n",
       "      <th>3</th>\n",
       "      <td>29097089</td>\n",
       "      <td>3</td>\n",
       "      <td>2</td>\n",
       "      <td>2.0</td>\n",
       "      <td>1.0</td>\n",
       "      <td>[96, 1, 129, 2, 4, 103, 40, 8, 104, 41, 73, 44...</td>\n",
       "      <td>True</td>\n",
       "      <td>4.86</td>\n",
       "      <td>43</td>\n",
       "      <td>4</td>\n",
       "    </tr>\n",
       "    <tr>\n",
       "      <th>4</th>\n",
       "      <td>29375215</td>\n",
       "      <td>4</td>\n",
       "      <td>1</td>\n",
       "      <td>1.0</td>\n",
       "      <td>1.0</td>\n",
       "      <td>[64, 1, 129, 4, 71, 8, 10, 12, 77, 85, 86, 23,...</td>\n",
       "      <td>False</td>\n",
       "      <td>4.54</td>\n",
       "      <td>45</td>\n",
       "      <td>8</td>\n",
       "    </tr>\n",
       "  </tbody>\n",
       "</table>\n",
       "</div>"
      ],
      "text/plain": [
       "        sid  guests  bedrooms  beds  bathrooms  \\\n",
       "0  18669058       2         1   1.0        1.0   \n",
       "1  39965150       2         1   1.0        1.0   \n",
       "2  39032523       4         2   2.0        1.0   \n",
       "3  29097089       3         2   2.0        1.0   \n",
       "4  29375215       4         1   1.0        1.0   \n",
       "\n",
       "                                           amenities  superhost  starRating  \\\n",
       "0  [1, 4, 8, 10, 77, 21, 89, 90, 91, 92, 93, 96, ...      False        4.70   \n",
       "1  [1, 2, 4, 8, 10, 77, 21, 86, 89, 90, 91, 93, 9...       True        4.84   \n",
       "2  [96, 1, 2, 4, 103, 40, 8, 10, 44, 45, 77, 89, ...      False        4.40   \n",
       "3  [96, 1, 129, 2, 4, 103, 40, 8, 104, 41, 73, 44...       True        4.86   \n",
       "4  [64, 1, 129, 4, 71, 8, 10, 12, 77, 85, 86, 23,...      False        4.54   \n",
       "\n",
       "   amount  cleaning_fee  \n",
       "0      37             5  \n",
       "1      65            12  \n",
       "2      62            18  \n",
       "3      43             4  \n",
       "4      45             8  "
      ]
     },
     "execution_count": 28,
     "metadata": {},
     "output_type": "execute_result"
    }
   ],
   "source": [
    "df = pd.DataFrame(stays)\n",
    "df.head()"
   ]
  },
  {
   "cell_type": "code",
   "execution_count": null,
   "metadata": {},
   "outputs": [],
   "source": []
  }
 ],
 "metadata": {
  "kernelspec": {
   "display_name": "Python [conda env:abb] *",
   "language": "python",
   "name": "conda-env-abb-py"
  },
  "language_info": {
   "codemirror_mode": {
    "name": "ipython",
    "version": 3
   },
   "file_extension": ".py",
   "mimetype": "text/x-python",
   "name": "python",
   "nbconvert_exporter": "python",
   "pygments_lexer": "ipython3",
   "version": "3.7.7"
  }
 },
 "nbformat": 4,
 "nbformat_minor": 4
}
