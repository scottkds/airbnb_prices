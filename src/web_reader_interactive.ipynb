{
 "cells": [
  {
   "cell_type": "code",
   "execution_count": 1,
   "metadata": {},
   "outputs": [],
   "source": [
    "# Imports\n",
    "import pandas as pd\n",
    "from selenium import webdriver\n",
    "from selenium.webdriver.support.ui import WebDriverWait\n",
    "from selenium.webdriver.common.by import By\n",
    "from selenium.webdriver.support import expected_conditions as EC\n",
    "from bs4 import BeautifulSoup\n",
    "import json\n",
    "import time\n",
    "from collections import defaultdict"
   ]
  },
  {
   "cell_type": "code",
   "execution_count": 2,
   "metadata": {},
   "outputs": [],
   "source": [
    "def setup_webdriver(width=800, height=600):\n",
    "    \"\"\"Opens a chrome window and sets the size of the window. The webdriver object is returned.\"\"\"\n",
    "    driver = webdriver.Chrome()\n",
    "    driver.set_window_size(width, height, windowHandle='current')\n",
    "    time.sleep(1)\n",
    "    return driver"
   ]
  },
  {
   "cell_type": "markdown",
   "metadata": {},
   "source": [
    "**This function should do the following:**\n",
    "1. Find the number of rooms returned by the given min/max values\n",
    "2. If the number of rooms is greater than 300 then reduce the max until a number of rooms less than 300 is return\n",
    "3. Maximize the number of rooms returned such that the number of rooms returned is the largest amount less than 300"
   ]
  },
  {
   "cell_type": "code",
   "execution_count": 13,
   "metadata": {},
   "outputs": [
    {
     "name": "stdout",
     "output_type": "stream",
     "text": [
      "237\n"
     ]
    }
   ],
   "source": [
    "def find_room_count_for_range(url, driver, min_price=0, max_price=10):\n",
    "    \"\"\"Requests Airbnb listings and searches for the price range that yields the greatest number\n",
    "    of stays that is less than 300. The price range is returned as a tuple. The function adds $20\n",
    "    until it exceeds 299 stays. The function will do a binary search for the lowest price that will yield\n",
    "    the greatest number of stays that is less than 300.\n",
    "    \n",
    "    Inputs:\n",
    "        min_price: The minimum price to consider.\n",
    "    Outputs\n",
    "        (min, max) tuple. A tuple containing the minimum and maximum price range.\"\"\"\n",
    "    \n",
    "    offset = 0\n",
    "    \n",
    "    # Occasionally Airbnb will not return the room count data and the BeautifulSoup selector will return\n",
    "    # an empty list. The following loop will relaod the page until the room counts are returned. It will\n",
    "    # try 5 times.\n",
    "    for i in range(5):\n",
    "        try:\n",
    "            driver.get(url.format(min_price, max_price, offset))\n",
    "            time.sleep(5)\n",
    "            soup = BeautifulSoup(driver.page_source)\n",
    "            room_count = soup.select('div._1snxcqc')[0].string.split()[0]\n",
    "            room_count.replace('+', '')\n",
    "            room_count = int(room_count.replace('+', ''))\n",
    "            break\n",
    "        except:\n",
    "            pass\n",
    "    \n",
    "    return room_count\n",
    "driver = setup_webdriver(1730, 1020)\n",
    "url = 'https://www.airbnb.com/s/Bogota--Colombia/homes?tab_id=home_tab&refinement_paths%5B%5D=%2Fhomes&place_id=ChIJKcumLf2bP44RFDmjIFVjnSM&source=structured_search_input_header&search_type=pagination&federated_search_session_id=43bfeb76-6669-4ea0-9fca-ad6e6789fb2a&query=Bogota%2C%20Colombia&checkin=2020-07-12&checkout=2020-07-15&price_min={}&price_max={}&room_types%5B%5D=Entire%20home%2Fapt&section_offset=4&items_offset={}'\n",
    "print(find_room_count_for_range(url, driver, max_price=16))\n",
    "# time.sleep(7)\n",
    "driver.close()"
   ]
  },
  {
   "cell_type": "code",
   "execution_count": 17,
   "metadata": {},
   "outputs": [
    {
     "name": "stdout",
     "output_type": "stream",
     "text": [
      "(237, 0, 16)\n"
     ]
    }
   ],
   "source": [
    "def find_optimum_range(url, driver, min_price=0, max_price=20):\n",
    "    \"\"\"Finds the optimum praice range to get less than 300 stays.\n",
    "    \n",
    "    This function will:\n",
    "    1. Get the number of rooms at the given price range.\n",
    "    2. If more than 300 rooms are returned it will decrease the max_price until a value less than 300 rooms is returned.\n",
    "    3. If less than 300 rooms are returned it will increase the max_price until more than 300 rooms are returned.\n",
    "    4. Steps 2 & 3 will be repeated until a price range that will yield the largest number of rooms less than 300 is found.\"\"\"\n",
    "    \n",
    "    top = max_price + 500\n",
    "    bottom = min_price\n",
    "    room_count = find_room_count_for_range(url, driver, min_price, max_price)\n",
    "    \n",
    "    while(room_count >= 300 or (top > max_price + 1 and room_count > 0)):\n",
    "        if room_count >= 300:\n",
    "            top = max_price\n",
    "            max_price = bottom + (max_price - bottom) // 2\n",
    "        else:\n",
    "            bottom = max_price\n",
    "            max_price = max_price + (top - max_price) // 2\n",
    "        room_count = find_room_count_for_range(url, driver, min_price, max_price)\n",
    "    \n",
    "    return (room_count, min_price, max_price)\n",
    "            \n",
    "\n",
    "driver = setup_webdriver(1730, 1020)\n",
    "url = 'https://www.airbnb.com/s/Bogota--Colombia/homes?tab_id=home_tab&refinement_paths%5B%5D=%2Fhomes&place_id=ChIJKcumLf2bP44RFDmjIFVjnSM&source=structured_search_input_header&search_type=pagination&federated_search_session_id=43bfeb76-6669-4ea0-9fca-ad6e6789fb2a&query=Bogota%2C%20Colombia&checkin=2020-07-12&checkout=2020-07-15&price_min={}&price_max={}&room_types%5B%5D=Entire%20home%2Fapt&section_offset=4&items_offset={}'\n",
    "print(find_optimum_range(url, driver, 0, 100))\n",
    "driver.close()"
   ]
  },
  {
   "cell_type": "code",
   "execution_count": 18,
   "metadata": {},
   "outputs": [
    {
     "name": "stdout",
     "output_type": "stream",
     "text": [
      "[(237, 0, 16), (255, 17, 20), (254, 21, 24), (249, 25, 28), (192, 29, 32), (244, 33, 37), (278, 38, 43), (279, 44, 51), (297, 52, 67), (278, 68, 99), (292, 100, 599), (5, 600, 1099)]\n"
     ]
    }
   ],
   "source": [
    "def get_price_ranges(url, driver, min_price=0, max_price=0):\n",
    "    price_ranges = []\n",
    "    last_count = 1\n",
    "    while(last_count > 0):\n",
    "        current_range = find_optimum_range(url, driver, min_price, max_price)\n",
    "        if current_range[0] > 0:\n",
    "            price_ranges.append(current_range)\n",
    "            min_price = current_range[2] + 1\n",
    "            max_price = current_range[2] + 1\n",
    "        last_count = current_range[0]\n",
    "    \n",
    "    return price_ranges\n",
    "driver = setup_webdriver(1730, 1020)\n",
    "url = 'https://www.airbnb.com/s/Bogota--Colombia/homes?tab_id=home_tab&refinement_paths%5B%5D=%2Fhomes&place_id=ChIJKcumLf2bP44RFDmjIFVjnSM&source=structured_search_input_header&search_type=pagination&federated_search_session_id=43bfeb76-6669-4ea0-9fca-ad6e6789fb2a&query=Bogota%2C%20Colombia&checkin=2020-07-12&checkout=2020-07-15&price_min={}&price_max={}&room_types%5B%5D=Entire%20home%2Fapt&section_offset=4&items_offset={}'\n",
    "print(get_price_ranges(url, driver, 0, 100))\n",
    "driver.close()"
   ]
  },
  {
   "cell_type": "code",
   "execution_count": 3,
   "metadata": {},
   "outputs": [],
   "source": [
    "def get_cleaning_fee(price_item_list):\n",
    "    \"\"\"Applies a filter to get the pricing item that is the cleaning.\"\"\"\n",
    "    def cleaning_fee_filter(item):\n",
    "        return item['localizedTitle'] == 'Cleaning fee'\n",
    "    cleaning_fee_item = list(filter(cleaning_fee_filter, price_item_list))\n",
    "    if cleaning_fee_item:\n",
    "        return cleaning_fee_item[0]['total']['amount']\n",
    "    else:\n",
    "        return 0\n",
    "                             \n",
    "# stays[0]['pricingQuote']['price']['priceItems']))[0]['total']['amount']"
   ]
  },
  {
   "cell_type": "code",
   "execution_count": 18,
   "metadata": {},
   "outputs": [],
   "source": [
    "def get_listings(driver, url):\n",
    "    driver.switch_to.window(driver.window_handles[0])\n",
    "    stays_added = 0\n",
    "    seen_ids = set()\n",
    "    keep_looping = True\n",
    "    offset = 0\n",
    "    stay_dict = defaultdict(list)\n",
    "    dup_dict = defaultdict(list)\n",
    "    while keep_looping:\n",
    "        stays_added = 0\n",
    "        min_price = 0\n",
    "        max_price = 20\n",
    "        driver.get(url.format(min_price, max_price, offset))\n",
    "        time.sleep(5)\n",
    "        soup = BeautifulSoup(driver.page_source)\n",
    "        json_dict = soup.select('script#data-state')\n",
    "        listings = json.loads(json_dict[0].string)\n",
    "        stays = listings['niobeClientData']['__niobe_denormalized']['queries'][0][1]['dora']['exploreV3']['sections'][0]['items']\n",
    "        for stay in stays:\n",
    "            current_id = stay['listing']['id']\n",
    "            if current_id in seen_ids:\n",
    "#                 print('Duplicate ID:', current_id)\n",
    "                dup_dict['sid'].append(stay['listing']['id'])\n",
    "                dup_dict['guests'].append(stay['listing']['personCapacity'])\n",
    "                dup_dict['bedrooms'].append(stay['listing']['bedrooms'])\n",
    "                dup_dict['beds'].append(stay['listing']['beds'])\n",
    "                dup_dict['bathrooms'].append(stay['listing']['bathrooms'])\n",
    "                dup_dict['amenities'].append(stay['listing']['amenityIds'])\n",
    "                dup_dict['superhost'].append(stay['listing']['isSuperhost'])\n",
    "                dup_dict['starRating'].append(stay['listing']['avgRating'])\n",
    "                dup_dict['amount'].append(stay['pricingQuote']['price']['total']['amount'])\n",
    "                dup_dict['cleaning_fee'].append(get_cleaning_fee(stay['pricingQuote']['price']['priceItems']))\n",
    "            else:\n",
    "                seen_ids.add(current_id)\n",
    "                stays_added += 1\n",
    "                stay_dict['sid'].append(stay['listing']['id'])\n",
    "                stay_dict['guests'].append(stay['listing']['personCapacity'])\n",
    "                stay_dict['bedrooms'].append(stay['listing']['bedrooms'])\n",
    "                stay_dict['beds'].append(stay['listing']['beds'])\n",
    "                stay_dict['bathrooms'].append(stay['listing']['bathrooms'])\n",
    "                stay_dict['amenities'].append(stay['listing']['amenityIds'])\n",
    "                stay_dict['superhost'].append(stay['listing']['isSuperhost'])\n",
    "                stay_dict['starRating'].append(stay['listing']['avgRating'])\n",
    "                stay_dict['amount'].append(stay['pricingQuote']['price']['total']['amount'])\n",
    "                stay_dict['cleaning_fee'].append(get_cleaning_fee(stay['pricingQuote']['price']['priceItems']))\n",
    "        if stays_added == 0:\n",
    "            keep_looping = False\n",
    "        offset += 20\n",
    "    return (stay_dict, dup_dict)"
   ]
  },
  {
   "cell_type": "code",
   "execution_count": 43,
   "metadata": {},
   "outputs": [],
   "source": [
    "# Set up chrome driver.\n",
    "driver = setup_webdriver(1730, 1020)"
   ]
  },
  {
   "cell_type": "code",
   "execution_count": 44,
   "metadata": {},
   "outputs": [],
   "source": [
    "url = 'https://www.airbnb.com/s/Bogota--Colombia/homes?tab_id=home_tab&refinement_paths%5B%5D=%2Fhomes&place_id=ChIJKcumLf2bP44RFDmjIFVjnSM&source=structured_search_input_header&search_type=pagination&federated_search_session_id=43bfeb76-6669-4ea0-9fca-ad6e6789fb2a&query=Bogota%2C%20Colombia&checkin=2020-07-12&checkout=2020-07-15&price_min={}&price_max={}&room_types%5B%5D=Entire%20home%2Fapt&section_offset=4&items_offset={}'\n",
    "# listings, dups = get_listings(driver, url)"
   ]
  },
  {
   "cell_type": "code",
   "execution_count": 45,
   "metadata": {},
   "outputs": [
    {
     "name": "stdout",
     "output_type": "stream",
     "text": [
      "[<div class=\"_1snxcqc\">33 stays · Jul 12 - 15</div>]\n"
     ]
    },
    {
     "ename": "AttributeError",
     "evalue": "ResultSet object has no attribute 'replace'. You're probably treating a list of elements like a single element. Did you call find_all() when you meant to call find()?",
     "output_type": "error",
     "traceback": [
      "\u001b[0;31m---------------------------------------------------------------------------\u001b[0m",
      "\u001b[0;31mAttributeError\u001b[0m                            Traceback (most recent call last)",
      "\u001b[0;32m<ipython-input-45-4303011004b0>\u001b[0m in \u001b[0;36m<module>\u001b[0;34m\u001b[0m\n\u001b[0;32m----> 1\u001b[0;31m \u001b[0mfind_pagination_price_range\u001b[0m\u001b[0;34m(\u001b[0m\u001b[0murl\u001b[0m\u001b[0;34m,\u001b[0m \u001b[0mdriver\u001b[0m\u001b[0;34m)\u001b[0m\u001b[0;34m\u001b[0m\u001b[0;34m\u001b[0m\u001b[0m\n\u001b[0m",
      "\u001b[0;32m<ipython-input-41-5e2cd38e59c4>\u001b[0m in \u001b[0;36mfind_pagination_price_range\u001b[0;34m(url, driver, min_price, max_price)\u001b[0m\n\u001b[1;32m     15\u001b[0m     \u001b[0mroom_count\u001b[0m \u001b[0;34m=\u001b[0m \u001b[0msoup\u001b[0m\u001b[0;34m.\u001b[0m\u001b[0mselect\u001b[0m\u001b[0;34m(\u001b[0m\u001b[0;34m'div._1snxcqc'\u001b[0m\u001b[0;34m)\u001b[0m\u001b[0;34m\u001b[0m\u001b[0;34m\u001b[0m\u001b[0m\n\u001b[1;32m     16\u001b[0m     \u001b[0mprint\u001b[0m\u001b[0;34m(\u001b[0m\u001b[0mroom_count\u001b[0m\u001b[0;34m)\u001b[0m\u001b[0;34m\u001b[0m\u001b[0;34m\u001b[0m\u001b[0m\n\u001b[0;32m---> 17\u001b[0;31m     \u001b[0mroom_count\u001b[0m\u001b[0;34m.\u001b[0m\u001b[0mreplace\u001b[0m\u001b[0;34m(\u001b[0m\u001b[0;34m'+'\u001b[0m\u001b[0;34m,\u001b[0m \u001b[0;34m''\u001b[0m\u001b[0;34m)\u001b[0m\u001b[0;34m\u001b[0m\u001b[0;34m\u001b[0m\u001b[0m\n\u001b[0m\u001b[1;32m     18\u001b[0m     \u001b[0mprint\u001b[0m\u001b[0;34m(\u001b[0m\u001b[0mint\u001b[0m\u001b[0;34m(\u001b[0m\u001b[0mroom_count\u001b[0m\u001b[0;34m)\u001b[0m\u001b[0;34m)\u001b[0m\u001b[0;34m\u001b[0m\u001b[0;34m\u001b[0m\u001b[0m\n\u001b[1;32m     19\u001b[0m \u001b[0;34m\u001b[0m\u001b[0m\n",
      "\u001b[0;32m/py/conda/envs/abb/lib/python3.7/site-packages/bs4/element.py\u001b[0m in \u001b[0;36m__getattr__\u001b[0;34m(self, key)\u001b[0m\n\u001b[1;32m   2126\u001b[0m         \u001b[0;34m\"\"\"Raise a helpful exception to explain a common code fix.\"\"\"\u001b[0m\u001b[0;34m\u001b[0m\u001b[0;34m\u001b[0m\u001b[0m\n\u001b[1;32m   2127\u001b[0m         raise AttributeError(\n\u001b[0;32m-> 2128\u001b[0;31m             \u001b[0;34m\"ResultSet object has no attribute '%s'. You're probably treating a list of elements like a single element. Did you call find_all() when you meant to call find()?\"\u001b[0m \u001b[0;34m%\u001b[0m \u001b[0mkey\u001b[0m\u001b[0;34m\u001b[0m\u001b[0;34m\u001b[0m\u001b[0m\n\u001b[0m\u001b[1;32m   2129\u001b[0m         )\n",
      "\u001b[0;31mAttributeError\u001b[0m: ResultSet object has no attribute 'replace'. You're probably treating a list of elements like a single element. Did you call find_all() when you meant to call find()?"
     ]
    }
   ],
   "source": [
    "find_pagination_price_range(url, driver)"
   ]
  },
  {
   "cell_type": "code",
   "execution_count": 8,
   "metadata": {},
   "outputs": [
    {
     "data": {
      "text/plain": [
       "299"
      ]
     },
     "execution_count": 8,
     "metadata": {},
     "output_type": "execute_result"
    }
   ],
   "source": [
    "len(listings['sid'])"
   ]
  },
  {
   "cell_type": "code",
   "execution_count": 9,
   "metadata": {},
   "outputs": [
    {
     "data": {
      "text/plain": [
       "61"
      ]
     },
     "execution_count": 9,
     "metadata": {},
     "output_type": "execute_result"
    }
   ],
   "source": [
    "len(dups['sid'])"
   ]
  },
  {
   "cell_type": "code",
   "execution_count": 10,
   "metadata": {},
   "outputs": [],
   "source": [
    "sdf = pd.DataFrame(listings)\n",
    "ddf = pd.DataFrame(dups)"
   ]
  },
  {
   "cell_type": "code",
   "execution_count": 11,
   "metadata": {},
   "outputs": [
    {
     "data": {
      "text/html": [
       "<div>\n",
       "<style scoped>\n",
       "    .dataframe tbody tr th:only-of-type {\n",
       "        vertical-align: middle;\n",
       "    }\n",
       "\n",
       "    .dataframe tbody tr th {\n",
       "        vertical-align: top;\n",
       "    }\n",
       "\n",
       "    .dataframe thead th {\n",
       "        text-align: right;\n",
       "    }\n",
       "</style>\n",
       "<table border=\"1\" class=\"dataframe\">\n",
       "  <thead>\n",
       "    <tr style=\"text-align: right;\">\n",
       "      <th></th>\n",
       "      <th>sid</th>\n",
       "      <th>guests</th>\n",
       "      <th>bedrooms</th>\n",
       "      <th>beds</th>\n",
       "      <th>bathrooms</th>\n",
       "      <th>amenities</th>\n",
       "      <th>superhost</th>\n",
       "      <th>starRating</th>\n",
       "      <th>amount</th>\n",
       "      <th>cleaning_fee</th>\n",
       "    </tr>\n",
       "  </thead>\n",
       "  <tbody>\n",
       "    <tr>\n",
       "      <th>0</th>\n",
       "      <td>28959540</td>\n",
       "      <td>2</td>\n",
       "      <td>1.0</td>\n",
       "      <td>1.0</td>\n",
       "      <td>1.0</td>\n",
       "      <td>[1, 2, 4, 8, 73, 10, 77, 21, 85, 86, 89, 90, 9...</td>\n",
       "      <td>True</td>\n",
       "      <td>4.88</td>\n",
       "      <td>120</td>\n",
       "      <td>0</td>\n",
       "    </tr>\n",
       "    <tr>\n",
       "      <th>1</th>\n",
       "      <td>39965150</td>\n",
       "      <td>2</td>\n",
       "      <td>1.0</td>\n",
       "      <td>1.0</td>\n",
       "      <td>1.0</td>\n",
       "      <td>[1, 2, 4, 8, 10, 77, 21, 86, 89, 90, 91, 93, 9...</td>\n",
       "      <td>True</td>\n",
       "      <td>4.83</td>\n",
       "      <td>128</td>\n",
       "      <td>12</td>\n",
       "    </tr>\n",
       "    <tr>\n",
       "      <th>2</th>\n",
       "      <td>39385283</td>\n",
       "      <td>3</td>\n",
       "      <td>1.0</td>\n",
       "      <td>2.0</td>\n",
       "      <td>1.0</td>\n",
       "      <td>[96, 1, 33, 100, 4, 40, 8, 44, 77, 46, 47, 85,...</td>\n",
       "      <td>True</td>\n",
       "      <td>4.90</td>\n",
       "      <td>160</td>\n",
       "      <td>7</td>\n",
       "    </tr>\n",
       "    <tr>\n",
       "      <th>3</th>\n",
       "      <td>43738388</td>\n",
       "      <td>6</td>\n",
       "      <td>2.0</td>\n",
       "      <td>4.0</td>\n",
       "      <td>2.0</td>\n",
       "      <td>[1, 4, 40, 8, 41]</td>\n",
       "      <td>False</td>\n",
       "      <td>NaN</td>\n",
       "      <td>130</td>\n",
       "      <td>15</td>\n",
       "    </tr>\n",
       "    <tr>\n",
       "      <th>4</th>\n",
       "      <td>26958388</td>\n",
       "      <td>4</td>\n",
       "      <td>2.0</td>\n",
       "      <td>2.0</td>\n",
       "      <td>2.0</td>\n",
       "      <td>[129, 1, 4, 8, 77, 89, 90, 91, 285, 93, 94, 95...</td>\n",
       "      <td>True</td>\n",
       "      <td>4.90</td>\n",
       "      <td>463</td>\n",
       "      <td>10</td>\n",
       "    </tr>\n",
       "  </tbody>\n",
       "</table>\n",
       "</div>"
      ],
      "text/plain": [
       "        sid  guests  bedrooms  beds  bathrooms  \\\n",
       "0  28959540       2       1.0   1.0        1.0   \n",
       "1  39965150       2       1.0   1.0        1.0   \n",
       "2  39385283       3       1.0   2.0        1.0   \n",
       "3  43738388       6       2.0   4.0        2.0   \n",
       "4  26958388       4       2.0   2.0        2.0   \n",
       "\n",
       "                                           amenities  superhost  starRating  \\\n",
       "0  [1, 2, 4, 8, 73, 10, 77, 21, 85, 86, 89, 90, 9...       True        4.88   \n",
       "1  [1, 2, 4, 8, 10, 77, 21, 86, 89, 90, 91, 93, 9...       True        4.83   \n",
       "2  [96, 1, 33, 100, 4, 40, 8, 44, 77, 46, 47, 85,...       True        4.90   \n",
       "3                                  [1, 4, 40, 8, 41]      False         NaN   \n",
       "4  [129, 1, 4, 8, 77, 89, 90, 91, 285, 93, 94, 95...       True        4.90   \n",
       "\n",
       "   amount  cleaning_fee  \n",
       "0     120             0  \n",
       "1     128            12  \n",
       "2     160             7  \n",
       "3     130            15  \n",
       "4     463            10  "
      ]
     },
     "execution_count": 11,
     "metadata": {},
     "output_type": "execute_result"
    }
   ],
   "source": [
    "sdf.head()"
   ]
  },
  {
   "cell_type": "code",
   "execution_count": 12,
   "metadata": {},
   "outputs": [
    {
     "data": {
      "text/html": [
       "<div>\n",
       "<style scoped>\n",
       "    .dataframe tbody tr th:only-of-type {\n",
       "        vertical-align: middle;\n",
       "    }\n",
       "\n",
       "    .dataframe tbody tr th {\n",
       "        vertical-align: top;\n",
       "    }\n",
       "\n",
       "    .dataframe thead th {\n",
       "        text-align: right;\n",
       "    }\n",
       "</style>\n",
       "<table border=\"1\" class=\"dataframe\">\n",
       "  <thead>\n",
       "    <tr style=\"text-align: right;\">\n",
       "      <th></th>\n",
       "      <th>sid</th>\n",
       "      <th>guests</th>\n",
       "      <th>bedrooms</th>\n",
       "      <th>beds</th>\n",
       "      <th>bathrooms</th>\n",
       "      <th>amenities</th>\n",
       "      <th>superhost</th>\n",
       "      <th>starRating</th>\n",
       "      <th>amount</th>\n",
       "      <th>cleaning_fee</th>\n",
       "    </tr>\n",
       "  </thead>\n",
       "  <tbody>\n",
       "    <tr>\n",
       "      <th>0</th>\n",
       "      <td>32308869</td>\n",
       "      <td>2</td>\n",
       "      <td>1</td>\n",
       "      <td>1.0</td>\n",
       "      <td>1.0</td>\n",
       "      <td>[1, 4, 103, 8, 40, 42, 44, 77, 45, 46, 89, 90,...</td>\n",
       "      <td>False</td>\n",
       "      <td>4.51</td>\n",
       "      <td>87</td>\n",
       "      <td>12</td>\n",
       "    </tr>\n",
       "    <tr>\n",
       "      <th>1</th>\n",
       "      <td>24288381</td>\n",
       "      <td>3</td>\n",
       "      <td>1</td>\n",
       "      <td>1.0</td>\n",
       "      <td>2.0</td>\n",
       "      <td>[96, 1, 33, 34, 4, 8, 40, 9, 44, 21, 89, 90, 9...</td>\n",
       "      <td>True</td>\n",
       "      <td>5.00</td>\n",
       "      <td>183</td>\n",
       "      <td>9</td>\n",
       "    </tr>\n",
       "    <tr>\n",
       "      <th>2</th>\n",
       "      <td>31541884</td>\n",
       "      <td>3</td>\n",
       "      <td>1</td>\n",
       "      <td>1.0</td>\n",
       "      <td>1.0</td>\n",
       "      <td>[96, 1, 33, 8, 40, 44, 77, 47, 57, 89, 91, 93,...</td>\n",
       "      <td>False</td>\n",
       "      <td>4.60</td>\n",
       "      <td>92</td>\n",
       "      <td>7</td>\n",
       "    </tr>\n",
       "    <tr>\n",
       "      <th>3</th>\n",
       "      <td>15084272</td>\n",
       "      <td>5</td>\n",
       "      <td>1</td>\n",
       "      <td>1.0</td>\n",
       "      <td>2.0</td>\n",
       "      <td>[129, 1, 3, 4, 6, 8, 9, 12, 77, 14, 21, 23, 89...</td>\n",
       "      <td>True</td>\n",
       "      <td>4.85</td>\n",
       "      <td>866</td>\n",
       "      <td>22</td>\n",
       "    </tr>\n",
       "    <tr>\n",
       "      <th>4</th>\n",
       "      <td>29438362</td>\n",
       "      <td>5</td>\n",
       "      <td>2</td>\n",
       "      <td>2.0</td>\n",
       "      <td>2.0</td>\n",
       "      <td>[1, 2, 4, 8, 9, 12, 77, 15, 21, 85, 86, 87, 23...</td>\n",
       "      <td>True</td>\n",
       "      <td>5.00</td>\n",
       "      <td>201</td>\n",
       "      <td>0</td>\n",
       "    </tr>\n",
       "  </tbody>\n",
       "</table>\n",
       "</div>"
      ],
      "text/plain": [
       "        sid  guests  bedrooms  beds  bathrooms  \\\n",
       "0  32308869       2         1   1.0        1.0   \n",
       "1  24288381       3         1   1.0        2.0   \n",
       "2  31541884       3         1   1.0        1.0   \n",
       "3  15084272       5         1   1.0        2.0   \n",
       "4  29438362       5         2   2.0        2.0   \n",
       "\n",
       "                                           amenities  superhost  starRating  \\\n",
       "0  [1, 4, 103, 8, 40, 42, 44, 77, 45, 46, 89, 90,...      False        4.51   \n",
       "1  [96, 1, 33, 34, 4, 8, 40, 9, 44, 21, 89, 90, 9...       True        5.00   \n",
       "2  [96, 1, 33, 8, 40, 44, 77, 47, 57, 89, 91, 93,...      False        4.60   \n",
       "3  [129, 1, 3, 4, 6, 8, 9, 12, 77, 14, 21, 23, 89...       True        4.85   \n",
       "4  [1, 2, 4, 8, 9, 12, 77, 15, 21, 85, 86, 87, 23...       True        5.00   \n",
       "\n",
       "   amount  cleaning_fee  \n",
       "0      87            12  \n",
       "1     183             9  \n",
       "2      92             7  \n",
       "3     866            22  \n",
       "4     201             0  "
      ]
     },
     "execution_count": 12,
     "metadata": {},
     "output_type": "execute_result"
    }
   ],
   "source": [
    "ddf.head()"
   ]
  },
  {
   "cell_type": "code",
   "execution_count": 13,
   "metadata": {},
   "outputs": [
    {
     "data": {
      "text/plain": [
       "<matplotlib.axes._subplots.AxesSubplot at 0x7f081b1feb90>"
      ]
     },
     "execution_count": 13,
     "metadata": {},
     "output_type": "execute_result"
    },
    {
     "data": {
      "image/png": "[encoded data removed]",
      "text/plain": [
       "<Figure size 432x288 with 1 Axes>"
      ]
     },
     "metadata": {
      "needs_background": "light"
     },
     "output_type": "display_data"
    }
   ],
   "source": [
    "sdf['amount'].hist()"
   ]
  },
  {
   "cell_type": "code",
   "execution_count": 14,
   "metadata": {},
   "outputs": [
    {
     "data": {
      "text/html": [
       "<div>\n",
       "<style scoped>\n",
       "    .dataframe tbody tr th:only-of-type {\n",
       "        vertical-align: middle;\n",
       "    }\n",
       "\n",
       "    .dataframe tbody tr th {\n",
       "        vertical-align: top;\n",
       "    }\n",
       "\n",
       "    .dataframe thead th {\n",
       "        text-align: right;\n",
       "    }\n",
       "</style>\n",
       "<table border=\"1\" class=\"dataframe\">\n",
       "  <thead>\n",
       "    <tr style=\"text-align: right;\">\n",
       "      <th></th>\n",
       "      <th>guests</th>\n",
       "      <th>bedrooms</th>\n",
       "      <th>beds</th>\n",
       "      <th>bathrooms</th>\n",
       "      <th>starRating</th>\n",
       "      <th>amount</th>\n",
       "      <th>cleaning_fee</th>\n",
       "    </tr>\n",
       "  </thead>\n",
       "  <tbody>\n",
       "    <tr>\n",
       "      <th>count</th>\n",
       "      <td>303.000000</td>\n",
       "      <td>302.000000</td>\n",
       "      <td>301.000000</td>\n",
       "      <td>303.000000</td>\n",
       "      <td>272.000000</td>\n",
       "      <td>303.000000</td>\n",
       "      <td>303.000000</td>\n",
       "    </tr>\n",
       "    <tr>\n",
       "      <th>mean</th>\n",
       "      <td>2.986799</td>\n",
       "      <td>1.132450</td>\n",
       "      <td>1.584718</td>\n",
       "      <td>1.240924</td>\n",
       "      <td>4.812978</td>\n",
       "      <td>205.801980</td>\n",
       "      <td>11.019802</td>\n",
       "    </tr>\n",
       "    <tr>\n",
       "      <th>std</th>\n",
       "      <td>1.271109</td>\n",
       "      <td>0.560914</td>\n",
       "      <td>0.881457</td>\n",
       "      <td>0.408569</td>\n",
       "      <td>0.157305</td>\n",
       "      <td>161.019209</td>\n",
       "      <td>8.998138</td>\n",
       "    </tr>\n",
       "    <tr>\n",
       "      <th>min</th>\n",
       "      <td>1.000000</td>\n",
       "      <td>0.000000</td>\n",
       "      <td>0.000000</td>\n",
       "      <td>1.000000</td>\n",
       "      <td>4.000000</td>\n",
       "      <td>68.000000</td>\n",
       "      <td>0.000000</td>\n",
       "    </tr>\n",
       "    <tr>\n",
       "      <th>25%</th>\n",
       "      <td>2.000000</td>\n",
       "      <td>1.000000</td>\n",
       "      <td>1.000000</td>\n",
       "      <td>1.000000</td>\n",
       "      <td>4.717500</td>\n",
       "      <td>125.000000</td>\n",
       "      <td>5.000000</td>\n",
       "    </tr>\n",
       "    <tr>\n",
       "      <th>50%</th>\n",
       "      <td>3.000000</td>\n",
       "      <td>1.000000</td>\n",
       "      <td>1.000000</td>\n",
       "      <td>1.000000</td>\n",
       "      <td>4.840000</td>\n",
       "      <td>169.000000</td>\n",
       "      <td>10.000000</td>\n",
       "    </tr>\n",
       "    <tr>\n",
       "      <th>75%</th>\n",
       "      <td>4.000000</td>\n",
       "      <td>1.000000</td>\n",
       "      <td>2.000000</td>\n",
       "      <td>1.500000</td>\n",
       "      <td>4.930000</td>\n",
       "      <td>227.000000</td>\n",
       "      <td>15.000000</td>\n",
       "    </tr>\n",
       "    <tr>\n",
       "      <th>max</th>\n",
       "      <td>10.000000</td>\n",
       "      <td>4.000000</td>\n",
       "      <td>7.000000</td>\n",
       "      <td>3.500000</td>\n",
       "      <td>5.000000</td>\n",
       "      <td>1775.000000</td>\n",
       "      <td>48.000000</td>\n",
       "    </tr>\n",
       "  </tbody>\n",
       "</table>\n",
       "</div>"
      ],
      "text/plain": [
       "           guests    bedrooms        beds   bathrooms  starRating  \\\n",
       "count  303.000000  302.000000  301.000000  303.000000  272.000000   \n",
       "mean     2.986799    1.132450    1.584718    1.240924    4.812978   \n",
       "std      1.271109    0.560914    0.881457    0.408569    0.157305   \n",
       "min      1.000000    0.000000    0.000000    1.000000    4.000000   \n",
       "25%      2.000000    1.000000    1.000000    1.000000    4.717500   \n",
       "50%      3.000000    1.000000    1.000000    1.000000    4.840000   \n",
       "75%      4.000000    1.000000    2.000000    1.500000    4.930000   \n",
       "max     10.000000    4.000000    7.000000    3.500000    5.000000   \n",
       "\n",
       "            amount  cleaning_fee  \n",
       "count   303.000000    303.000000  \n",
       "mean    205.801980     11.019802  \n",
       "std     161.019209      8.998138  \n",
       "min      68.000000      0.000000  \n",
       "25%     125.000000      5.000000  \n",
       "50%     169.000000     10.000000  \n",
       "75%     227.000000     15.000000  \n",
       "max    1775.000000     48.000000  "
      ]
     },
     "execution_count": 14,
     "metadata": {},
     "output_type": "execute_result"
    }
   ],
   "source": [
    "sdf.describe()"
   ]
  },
  {
   "cell_type": "code",
   "execution_count": null,
   "metadata": {},
   "outputs": [],
   "source": []
  },
  {
   "cell_type": "code",
   "execution_count": null,
   "metadata": {},
   "outputs": [],
   "source": []
  },
  {
   "cell_type": "code",
   "execution_count": null,
   "metadata": {},
   "outputs": [],
   "source": []
  },
  {
   "cell_type": "code",
   "execution_count": null,
   "metadata": {},
   "outputs": [],
   "source": [
    "# stays = listings['niobeClientData']['__niobe_denormalized']['queries'][0][1]['dora']['exploreV3']['sections'][1]['items']\n",
    "# len(stays)"
   ]
  },
  {
   "cell_type": "code",
   "execution_count": null,
   "metadata": {},
   "outputs": [],
   "source": [
    "# stay_dict = defaultdict(list)\n",
    "# for stay in stays:\n",
    "#     stay_dict['guests'].append(stay['listing']['personCapacity'])\n",
    "#     stay_dict['bedrooms'].append(stay['listing']['bedrooms'])\n",
    "#     stay_dict['beds'].append(stay['listing']['beds'])\n",
    "#     stay_dict['bathrooms'].append(stay['listing']['bathrooms'])\n",
    "#     stay_dict['sid'].append(stay['listing']['id'])\n",
    "#     stay_dict['amenities'].append(stay['listing']['amenityIds'])\n",
    "#     stay_dict['superhost'].append(stay['listing']['isSuperhost'])\n",
    "#     stay_dict['starRating'].append(stay['listing']['avgRating'])\n",
    "#     stay_dict['amount'].append(stay['pricingQuote']['price']['total']['amount'])\n",
    "#     stay_dict['cleaning_fee'].append(get_cleaning_fee(stay['pricingQuote']['price']['priceItems']))"
   ]
  },
  {
   "cell_type": "code",
   "execution_count": null,
   "metadata": {},
   "outputs": [],
   "source": [
    "for key, value in listings.items():\n",
    "    print(key, len(value))"
   ]
  },
  {
   "cell_type": "code",
   "execution_count": null,
   "metadata": {},
   "outputs": [],
   "source": [
    "1 / 0"
   ]
  },
  {
   "cell_type": "code",
   "execution_count": null,
   "metadata": {},
   "outputs": [],
   "source": []
  },
  {
   "cell_type": "code",
   "execution_count": null,
   "metadata": {},
   "outputs": [],
   "source": [
    "list(filter(filter_cleaning_fee, stays[0]['pricingQuote']['price']['priceItems']))[0]['total']['amount']"
   ]
  },
  {
   "cell_type": "code",
   "execution_count": null,
   "metadata": {},
   "outputs": [],
   "source": [
    "soup = BeautifulSoup(driver.page_source)\n",
    "soup.select('script#data-state')"
   ]
  },
  {
   "cell_type": "code",
   "execution_count": null,
   "metadata": {},
   "outputs": [],
   "source": []
  },
  {
   "cell_type": "code",
   "execution_count": null,
   "metadata": {},
   "outputs": [],
   "source": []
  },
  {
   "cell_type": "code",
   "execution_count": null,
   "metadata": {},
   "outputs": [],
   "source": []
  },
  {
   "cell_type": "code",
   "execution_count": null,
   "metadata": {},
   "outputs": [],
   "source": [
    "# JSON {}\n",
    "# niobeClinetData\n",
    "# __niobe_denormalized {}\n",
    "# 0 []\n",
    "# 1 {}\n",
    "# dora {}\n",
    "# ExplorerV3\n",
    "# sections []\n",
    "# 1 {}\n",
    "# Items"
   ]
  },
  {
   "cell_type": "code",
   "execution_count": null,
   "metadata": {},
   "outputs": [],
   "source": [
    "def get_stays_on_page(page_source):\n",
    "    \"\"\"Use BeautifulSoup to extract the stays on a page. Airbnb uses a json object\n",
    "    that contains much of the desired information.\"\"\"\n",
    "    soup = BeautifulSoup(PageSourceURL)\n",
    "    js = soup.select('script#data-state')\n",
    "    listings = json.loads(js[0].string)"
   ]
  }
 ],
 "metadata": {
  "kernelspec": {
   "display_name": "Python [conda env:abb] *",
   "language": "python",
   "name": "conda-env-abb-py"
  },
  "language_info": {
   "codemirror_mode": {
    "name": "ipython",
    "version": 3
   },
   "file_extension": ".py",
   "mimetype": "text/x-python",
   "name": "python",
   "nbconvert_exporter": "python",
   "pygments_lexer": "ipython3",
   "version": "3.7.7"
  }
 },
 "nbformat": 4,
 "nbformat_minor": 4
}
