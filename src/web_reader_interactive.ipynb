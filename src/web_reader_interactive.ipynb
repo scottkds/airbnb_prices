{
 "cells": [
  {
   "cell_type": "code",
   "execution_count": 19,
   "metadata": {},
   "outputs": [],
   "source": [
    "from selenium import webdriver\n",
    "from selenium.webdriver.support.ui import WebDriverWait\n",
    "from selenium.webdriver.common.by import By\n",
    "from selenium.webdriver.support import expected_conditions as EC\n",
    "from bs4 import BeautifulSoup\n",
    "import json\n",
    "import time\n",
    "from collections import defaultdict"
   ]
  },
  {
   "cell_type": "code",
   "execution_count": 46,
   "metadata": {},
   "outputs": [],
   "source": [
    "def get_cleaning_fee(price_item_list):\n",
    "    \"\"\"Applies a filter to get the pricing item that is the cleaning.\"\"\"\n",
    "    def cleaning_fee_filter(item):\n",
    "        return item['localizedTitle'] == 'Cleaning fee'\n",
    "    cleaning_fee_item = list(filter(cleaning_fee_filter, price_item_list))\n",
    "    if cleaning_fee_item:\n",
    "        return cleaning_fee_item[0]['total']['amount']\n",
    "    else:\n",
    "        return 0\n",
    "                             \n",
    "# stays[0]['pricingQuote']['price']['priceItems']))[0]['total']['amount']"
   ]
  },
  {
   "cell_type": "code",
   "execution_count": 2,
   "metadata": {},
   "outputs": [],
   "source": [
    "def setup_webdriver(width=800, height=600):\n",
    "    \"\"\"Opens a chrome window and sets the size of the window. The webdriver object is returned.\"\"\"\n",
    "    driver = webdriver.Chrome()\n",
    "    driver.set_window_size(width, height, windowHandle='current')\n",
    "    time.sleep(1)\n",
    "    return driver"
   ]
  },
  {
   "cell_type": "code",
   "execution_count": 3,
   "metadata": {},
   "outputs": [],
   "source": [
    "def get_stays_on_page(page_source):\n",
    "    \"\"\"Use BeautifulSoup to extract the stays on a page. Airbnb uses a json object\n",
    "    that contains much of the desired information.\"\"\"\n",
    "    soup = BeautifulSoup(PageSourceURL)\n",
    "    js = soup.select('script#data-state')\n",
    "    listings = json.loads(js[0].string)"
   ]
  },
  {
   "cell_type": "code",
   "execution_count": 4,
   "metadata": {},
   "outputs": [],
   "source": [
    "driver = setup_webdriver(1730, 1020)"
   ]
  },
  {
   "cell_type": "code",
   "execution_count": 5,
   "metadata": {},
   "outputs": [],
   "source": [
    "driver.switch_to.window(driver.window_handles[0])\n",
    "link = 'https://www.airbnb.com/s/Bogota--Colombia/homes?tab_id=all_tab&refinement_paths%5B%5D=%2Fhomes&query=Bogota%2C%20Colombia&place_id=ChIJKcumLf2bP44RFDmjIFVjnSM&checkin=2020-06-14&checkout=2020-06-28&source=structured_search_input_header&search_type=search_query'\n",
    "# #link = 'https://www.airbnb.com/rooms/13516185?location=Bogota%2C%20Colombia&check_in=2020-06-14&check_out=2020-06-28&source_impression_id=p3_1590372927_i1WyHyNErr07fsxz&guests=1&adults=1'\n",
    "driver.get(link)\n",
    "time.sleep(5)\n",
    "# WebDriverWait(driver,20).until(EC.presence_of_element_located((By.CSS_SELECTOR,'_fhph4u')))\n",
    "# WebDriverWait(driver,20).until(EC.presence_of_element_located((By.CSS_SELECTOR,'data-state')))\n",
    "PageSourceURL = driver.page_source"
   ]
  },
  {
   "cell_type": "code",
   "execution_count": 6,
   "metadata": {},
   "outputs": [],
   "source": [
    "# <script data-state=\"true\" id=\"data-state\" type=\"application/json\">"
   ]
  },
  {
   "cell_type": "code",
   "execution_count": 7,
   "metadata": {},
   "outputs": [],
   "source": [
    "soup = BeautifulSoup(PageSourceURL)\n",
    "js = soup.select('script#data-state')\n",
    "listings = json.loads(js[0].string)"
   ]
  },
  {
   "cell_type": "code",
   "execution_count": 8,
   "metadata": {},
   "outputs": [],
   "source": [
    "# JSON {}\n",
    "# niobeClinetData\n",
    "# __niobe_denormalized {}\n",
    "# 0 []\n",
    "# 1 {}\n",
    "# dora {}\n",
    "# ExplorerV3\n",
    "# sections []\n",
    "# 1 {}\n",
    "# Items"
   ]
  },
  {
   "cell_type": "code",
   "execution_count": 9,
   "metadata": {},
   "outputs": [
    {
     "data": {
      "text/plain": [
       "20"
      ]
     },
     "execution_count": 9,
     "metadata": {},
     "output_type": "execute_result"
    }
   ],
   "source": [
    "stays = listings['niobeClientData']['__niobe_denormalized']['queries'][0][1]['dora']['exploreV3']['sections'][1]['items']\n",
    "len(stays)"
   ]
  },
  {
   "cell_type": "code",
   "execution_count": 20,
   "metadata": {},
   "outputs": [],
   "source": [
    "# stays[0]"
   ]
  },
  {
   "cell_type": "code",
   "execution_count": 47,
   "metadata": {},
   "outputs": [
    {
     "data": {
      "text/plain": [
       "15"
      ]
     },
     "execution_count": 47,
     "metadata": {},
     "output_type": "execute_result"
    }
   ],
   "source": [
    "list(filter(filter_cleaning_fee, stays[0]['pricingQuote']['price']['priceItems']))[0]['total']['amount']"
   ]
  },
  {
   "cell_type": "code",
   "execution_count": 48,
   "metadata": {},
   "outputs": [],
   "source": [
    "stay_dict = defaultdict(list)\n",
    "for stay in stays:\n",
    "    stay_dict['guests'].append(stay['listing']['personCapacity'])\n",
    "    stay_dict['bedrooms'].append(stay['listing']['bedrooms'])\n",
    "    stay_dict['beds'].append(stay['listing']['beds'])\n",
    "    stay_dict['bathrooms'].append(stay['listing']['bathrooms'])\n",
    "    stay_dict['sid'].append(stay['listing']['id'])\n",
    "    stay_dict['amenities'].append(stay['listing']['amenityIds'])\n",
    "    stay_dict['superhost'].append(stay['listing']['isSuperhost'])\n",
    "    stay_dict['starRating'].append(stay['listing']['avgRating'])\n",
    "    stay_dict['amount'].append(stay['pricingQuote']['price']['total']['amount'])\n",
    "    stay_dict['cleaning_fee'].append(get_cleaning_fee(stay['pricingQuote']['price']['priceItems']))"
   ]
  },
  {
   "cell_type": "code",
   "execution_count": 50,
   "metadata": {},
   "outputs": [],
   "source": [
    "# stay_dict"
   ]
  },
  {
   "cell_type": "code",
   "execution_count": null,
   "metadata": {},
   "outputs": [],
   "source": []
  }
 ],
 "metadata": {
  "kernelspec": {
   "display_name": "Python [conda env:abb] *",
   "language": "python",
   "name": "conda-env-abb-py"
  },
  "language_info": {
   "codemirror_mode": {
    "name": "ipython",
    "version": 3
   },
   "file_extension": ".py",
   "mimetype": "text/x-python",
   "name": "python",
   "nbconvert_exporter": "python",
   "pygments_lexer": "ipython3",
   "version": "3.7.7"
  }
 },
 "nbformat": 4,
 "nbformat_minor": 4
}
