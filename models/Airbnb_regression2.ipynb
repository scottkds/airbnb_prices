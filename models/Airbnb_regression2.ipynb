{
 "cells": [
  {
   "cell_type": "markdown",
   "metadata": {},
   "source": [
    "#### TODO\n",
    "1. Recreate Notebook\n",
    "2. Bring in data in: room data, cluster data, amenities, distances to sites\n",
    "3. Build models for room data, cluster data, amenities, disances to sites\n",
    "4. Use models: LinearRegression, RandomForestRegressor, SVR, XGBoostRegressor\n",
    "5. Tune models using Hyperopt to tune models"
   ]
  },
  {
   "cell_type": "code",
   "execution_count": 1,
   "metadata": {},
   "outputs": [],
   "source": [
    "# Imports\n",
    "import pandas as pd\n",
    "import numpy as np\n",
    "import matplotlib.pyplot as plt\n",
    "import json\n",
    "import re\n",
    "import matplotlib.pyplot as plt\n",
    "import seaborn as sns\n",
    "\n",
    "# Scikit-learn\n",
    "from sklearn.feature_extraction.text import CountVectorizer\n",
    "from sklearn.linear_model import LinearRegression, LassoCV, RidgeCV, Lasso, Ridge\n",
    "from sklearn.preprocessing import StandardScaler, PolynomialFeatures, FunctionTransformer, normalize\n",
    "from sklearn.model_selection import train_test_split, cross_val_score\n",
    "from sklearn.pipeline import make_pipeline\n",
    "from sklearn.metrics import mean_squared_error, r2_score\n",
    "from sklearn.cluster import dbscan\n",
    "from sklearn.cluster import KMeans\n",
    "from sklearn.metrics import silhouette_samples, silhouette_score\n",
    "from sklearn.ensemble import RandomForestRegressor\n",
    "\n",
    "# Hyperopt\n",
    "from hyperopt import fmin, hp, tpe, Trials, space_eval, STATUS_OK\n",
    "from hyperopt.pyll import scope as ho_scope\n",
    "from hyperopt.pyll.stochastic import sample as ho_sample\n",
    "from functools import partial\n",
    "\n",
    "# Others\n",
    "from sklearn_pandas import DataFrameMapper\n",
    "import statsmodels.api as sm\n",
    "import tilemapbase as tmb\n",
    "from math import acos, sin, cos"
   ]
  },
  {
   "cell_type": "code",
   "execution_count": 2,
   "metadata": {},
   "outputs": [],
   "source": [
    "def plot_rooms(frame, extent, view_map):\n",
    "    \"\"\"\n",
    "    Plots an openstreetmap with colored points\n",
    "    \n",
    "    param frame: A dataframe with lng and lat features.\n",
    "    param extent: a tilemapbase extent object that defines the map view window.\n",
    "    param view_map: tilemapbase cached map information.\n",
    "    \"\"\"\n",
    "    \n",
    "    fig, ax = plt.subplots(figsize=(8, 8), dpi=100)\n",
    "    ax.xaxis.set_visible(False)\n",
    "    ax.yaxis.set_visible(False)\n",
    "\n",
    "    plotter = tmb.Plotter(extent, view_map, width=600)\n",
    "    plotter.plot(ax, view_map)\n",
    "\n",
    "    lats = []\n",
    "    lngs = []\n",
    "    for idx, row in rooms.iterrows():\n",
    "        x, y = tmb.project(row['lng'], row['lat'])\n",
    "        lngs.append(x)\n",
    "        lats.append(y)\n",
    "\n",
    "    #x, y = tmb.project(*first_point)\n",
    "    #print(x, y)\n",
    "    #ax.scatter(x,y, marker=\".\", color=\"black\", linewidth=1)\n",
    "    ax.scatter(lngs, lats, marker=\".\", linewidth=1, c=rooms['cluster'])\n",
    "    \n",
    "    return None"
   ]
  },
  {
   "cell_type": "code",
   "execution_count": 3,
   "metadata": {},
   "outputs": [],
   "source": [
    "def linear_distance(latitude1, longitude1, latitude2, longitude2):\n",
    "    \"\"\"Calculates the distance between two point with values given in\n",
    "    latitude and longitude.\"\"\"\n",
    "    PI = 3.14159\n",
    "    distance = acos( sin(PI * latitude1 / 180.0) * \\\n",
    "                     sin(PI * latitude2 / 180.0) + \\\n",
    "                     cos(PI * latitude1 / 180.0) * \\\n",
    "                     cos(PI * latitude2 / 180.0) * \\\n",
    "                     cos(PI * longitude1 / 180.0 - \\\n",
    "                     PI * longitude2 / 180.0) ) * 6378\n",
    "    return distance\n"
   ]
  },
  {
   "cell_type": "code",
   "execution_count": 4,
   "metadata": {},
   "outputs": [],
   "source": [
    "sites = {'Gold_Museum': (4.6019, -74.0718),\n",
    "        'Monserrate': (4.6057, -74.0555),\n",
    "        'Bolivar_Square': (4.5981, -74.0760),\n",
    "        'Museo_Boltero': (4.5968, -74.0732),\n",
    "        'Museo_Nacional_de_Colombia': (4.6155, -74.0683),\n",
    "        'Bogota_Botanical_Garden': (4.6682, -74.1000),\n",
    "        'Simon_Bolivar_Park': (4.6585, -74.0935),\n",
    "        'Museo_Quinta_Bolivar': (4.6025, -74.0630),\n",
    "        'Catedral_Primada_de_Colombia': (4.5973, -74.0747),\n",
    "        'Maloka_Interavtive_Center': (4.6551, -74.1094),\n",
    "        'Chorro_de_Quevedo': (4.5972, -74.0697),\n",
    "        'Parque_de_los_Novios': (4.6548, -74.0812)}"
   ]
  },
  {
   "cell_type": "code",
   "execution_count": 5,
   "metadata": {},
   "outputs": [],
   "source": [
    "def distance_to_sites(data, lat_col, lng_col, sites):\n",
    "    distances = {}\n",
    "    for key in sites.keys():\n",
    "        distances[key] = []\n",
    "    \n",
    "    for idx, row in data.iterrows():\n",
    "        for key, latlng in sites.items():\n",
    "            distances[key].append(round(linear_distance(latlng[0], latlng[1], row[lat_col], row[lng_col]), 3))\n",
    "    \n",
    "    return pd.DataFrame(distances, index=data.index)"
   ]
  },
  {
   "cell_type": "code",
   "execution_count": 6,
   "metadata": {},
   "outputs": [],
   "source": [
    "# Globals\n",
    "SEED = 42"
   ]
  },
  {
   "cell_type": "code",
   "execution_count": 7,
   "metadata": {},
   "outputs": [
    {
     "name": "stdout",
     "output_type": "stream",
     "text": [
      "<class 'pandas.core.frame.DataFrame'>\n",
      "Int64Index: 2435 entries, 18669058 to 16214536\n",
      "Data columns (total 11 columns):\n",
      " #   Column          Non-Null Count  Dtype  \n",
      "---  ------          --------------  -----  \n",
      " 0   cleaning_fee    2435 non-null   int64  \n",
      " 1   price           2435 non-null   int64  \n",
      " 2   bedrooms        2428 non-null   float64\n",
      " 3   beds            2415 non-null   float64\n",
      " 4   bathrooms       2435 non-null   float64\n",
      " 5   personCapacity  2435 non-null   int64  \n",
      " 6   reviewsCount    2435 non-null   int64  \n",
      " 7   isSuperhost     2435 non-null   int64  \n",
      " 8   avgRating       2435 non-null   float64\n",
      " 9   lat             2435 non-null   float64\n",
      " 10  lng             2435 non-null   float64\n",
      "dtypes: float64(6), int64(5)\n",
      "memory usage: 228.3 KB\n"
     ]
    }
   ],
   "source": [
    "# Read in room data\n",
    "rooms = pd.read_csv('../data/room_data.csv')\n",
    "rooms = rooms.drop_duplicates()\n",
    "rooms['isSuperhost'] = rooms['isSuperhost'].astype(int)\n",
    "rooms['avgRating'] = rooms['avgRating'].fillna(rooms['avgRating'].mean())\n",
    "rooms = rooms.set_index('id')\n",
    "rooms.info()"
   ]
  },
  {
   "cell_type": "code",
   "execution_count": 8,
   "metadata": {},
   "outputs": [],
   "source": [
    "# Bedrooms and beds have some NaN values. Filling those with zero.\n",
    "rooms['bedrooms'] = rooms['bedrooms'].fillna(0)\n",
    "rooms['beds'] = rooms['beds'].fillna(0)"
   ]
  },
  {
   "cell_type": "code",
   "execution_count": 9,
   "metadata": {},
   "outputs": [
    {
     "data": {
      "text/html": [
       "<div>\n",
       "<style scoped>\n",
       "    .dataframe tbody tr th:only-of-type {\n",
       "        vertical-align: middle;\n",
       "    }\n",
       "\n",
       "    .dataframe tbody tr th {\n",
       "        vertical-align: top;\n",
       "    }\n",
       "\n",
       "    .dataframe thead th {\n",
       "        text-align: right;\n",
       "    }\n",
       "</style>\n",
       "<table border=\"1\" class=\"dataframe\">\n",
       "  <thead>\n",
       "    <tr style=\"text-align: right;\">\n",
       "      <th></th>\n",
       "      <th>cleaning_fee</th>\n",
       "      <th>price</th>\n",
       "      <th>bedrooms</th>\n",
       "      <th>beds</th>\n",
       "      <th>bathrooms</th>\n",
       "      <th>personCapacity</th>\n",
       "      <th>reviewsCount</th>\n",
       "      <th>isSuperhost</th>\n",
       "      <th>avgRating</th>\n",
       "      <th>lat</th>\n",
       "      <th>lng</th>\n",
       "    </tr>\n",
       "    <tr>\n",
       "      <th>id</th>\n",
       "      <th></th>\n",
       "      <th></th>\n",
       "      <th></th>\n",
       "      <th></th>\n",
       "      <th></th>\n",
       "      <th></th>\n",
       "      <th></th>\n",
       "      <th></th>\n",
       "      <th></th>\n",
       "      <th></th>\n",
       "      <th></th>\n",
       "    </tr>\n",
       "  </thead>\n",
       "  <tbody>\n",
       "    <tr>\n",
       "      <th>18669058</th>\n",
       "      <td>5</td>\n",
       "      <td>10</td>\n",
       "      <td>1.0</td>\n",
       "      <td>1.0</td>\n",
       "      <td>1.0</td>\n",
       "      <td>2</td>\n",
       "      <td>82</td>\n",
       "      <td>0</td>\n",
       "      <td>4.71</td>\n",
       "      <td>4.65030</td>\n",
       "      <td>-74.06013</td>\n",
       "    </tr>\n",
       "    <tr>\n",
       "      <th>32308869</th>\n",
       "      <td>12</td>\n",
       "      <td>12</td>\n",
       "      <td>1.0</td>\n",
       "      <td>1.0</td>\n",
       "      <td>1.0</td>\n",
       "      <td>2</td>\n",
       "      <td>52</td>\n",
       "      <td>0</td>\n",
       "      <td>4.50</td>\n",
       "      <td>4.64668</td>\n",
       "      <td>-74.07234</td>\n",
       "    </tr>\n",
       "    <tr>\n",
       "      <th>35159913</th>\n",
       "      <td>5</td>\n",
       "      <td>12</td>\n",
       "      <td>1.0</td>\n",
       "      <td>1.0</td>\n",
       "      <td>1.0</td>\n",
       "      <td>2</td>\n",
       "      <td>8</td>\n",
       "      <td>0</td>\n",
       "      <td>5.00</td>\n",
       "      <td>4.58942</td>\n",
       "      <td>-74.07299</td>\n",
       "    </tr>\n",
       "    <tr>\n",
       "      <th>37721845</th>\n",
       "      <td>11</td>\n",
       "      <td>11</td>\n",
       "      <td>1.0</td>\n",
       "      <td>1.0</td>\n",
       "      <td>1.0</td>\n",
       "      <td>2</td>\n",
       "      <td>20</td>\n",
       "      <td>0</td>\n",
       "      <td>4.70</td>\n",
       "      <td>4.63778</td>\n",
       "      <td>-74.06339</td>\n",
       "    </tr>\n",
       "    <tr>\n",
       "      <th>35522458</th>\n",
       "      <td>8</td>\n",
       "      <td>12</td>\n",
       "      <td>1.0</td>\n",
       "      <td>1.0</td>\n",
       "      <td>1.0</td>\n",
       "      <td>2</td>\n",
       "      <td>18</td>\n",
       "      <td>0</td>\n",
       "      <td>4.94</td>\n",
       "      <td>4.64031</td>\n",
       "      <td>-74.06816</td>\n",
       "    </tr>\n",
       "  </tbody>\n",
       "</table>\n",
       "</div>"
      ],
      "text/plain": [
       "          cleaning_fee  price  bedrooms  beds  bathrooms  personCapacity  \\\n",
       "id                                                                         \n",
       "18669058             5     10       1.0   1.0        1.0               2   \n",
       "32308869            12     12       1.0   1.0        1.0               2   \n",
       "35159913             5     12       1.0   1.0        1.0               2   \n",
       "37721845            11     11       1.0   1.0        1.0               2   \n",
       "35522458             8     12       1.0   1.0        1.0               2   \n",
       "\n",
       "          reviewsCount  isSuperhost  avgRating      lat       lng  \n",
       "id                                                                 \n",
       "18669058            82            0       4.71  4.65030 -74.06013  \n",
       "32308869            52            0       4.50  4.64668 -74.07234  \n",
       "35159913             8            0       5.00  4.58942 -74.07299  \n",
       "37721845            20            0       4.70  4.63778 -74.06339  \n",
       "35522458            18            0       4.94  4.64031 -74.06816  "
      ]
     },
     "execution_count": 9,
     "metadata": {},
     "output_type": "execute_result"
    }
   ],
   "source": [
    "# Check our dataframe contents.\n",
    "rooms.head()"
   ]
  },
  {
   "cell_type": "code",
   "execution_count": 10,
   "metadata": {},
   "outputs": [
    {
     "data": {
      "text/plain": [
       "Index(['cleaning_fee', 'price', 'bedrooms', 'beds', 'bathrooms',\n",
       "       'personCapacity', 'reviewsCount', 'avgRating'],\n",
       "      dtype='object')"
      ]
     },
     "execution_count": 10,
     "metadata": {},
     "output_type": "execute_result"
    }
   ],
   "source": [
    "hist_cols = rooms.columns.drop(['isSuperhost', 'lat', 'lng'])\n",
    "hist_cols"
   ]
  },
  {
   "cell_type": "code",
   "execution_count": 11,
   "metadata": {},
   "outputs": [
    {
     "data": {
      "image/png": "[encoded data removed]",
      "text/plain": [
       "<Figure size 1440x1440 with 16 Axes>"
      ]
     },
     "metadata": {
      "needs_background": "light"
     },
     "output_type": "display_data"
    }
   ],
   "source": [
    "plt.figure(figsize=(20, 20))\n",
    "idx = 1\n",
    "for col in hist_cols:\n",
    "    plot_nbr = idx \n",
    "    plt.subplot(5, 4, plot_nbr)\n",
    "    plt.hist(rooms[col])\n",
    "    plt.xlabel(col.title())\n",
    "    idx += 1\n",
    "    plot_nbr = idx \n",
    "    plt.subplot(5, 4, plot_nbr)\n",
    "    plt.hist(np.log1p(rooms[col]), color='green')\n",
    "    plt.xlabel('Log1p ' + col.title())\n",
    "    idx += 1"
   ]
  },
  {
   "cell_type": "code",
   "execution_count": 12,
   "metadata": {},
   "outputs": [
    {
     "data": {
      "text/html": [
       "<div>\n",
       "<style scoped>\n",
       "    .dataframe tbody tr th:only-of-type {\n",
       "        vertical-align: middle;\n",
       "    }\n",
       "\n",
       "    .dataframe tbody tr th {\n",
       "        vertical-align: top;\n",
       "    }\n",
       "\n",
       "    .dataframe thead th {\n",
       "        text-align: right;\n",
       "    }\n",
       "</style>\n",
       "<table border=\"1\" class=\"dataframe\">\n",
       "  <thead>\n",
       "    <tr style=\"text-align: right;\">\n",
       "      <th></th>\n",
       "      <th>Gold_Museum</th>\n",
       "      <th>Monserrate</th>\n",
       "      <th>Bolivar_Square</th>\n",
       "      <th>Museo_Boltero</th>\n",
       "      <th>Museo_Nacional_de_Colombia</th>\n",
       "      <th>Bogota_Botanical_Garden</th>\n",
       "      <th>Simon_Bolivar_Park</th>\n",
       "      <th>Museo_Quinta_Bolivar</th>\n",
       "      <th>Catedral_Primada_de_Colombia</th>\n",
       "      <th>Maloka_Interavtive_Center</th>\n",
       "      <th>Chorro_de_Quevedo</th>\n",
       "      <th>Parque_de_los_Novios</th>\n",
       "    </tr>\n",
       "    <tr>\n",
       "      <th>id</th>\n",
       "      <th></th>\n",
       "      <th></th>\n",
       "      <th></th>\n",
       "      <th></th>\n",
       "      <th></th>\n",
       "      <th></th>\n",
       "      <th></th>\n",
       "      <th></th>\n",
       "      <th></th>\n",
       "      <th></th>\n",
       "      <th></th>\n",
       "      <th></th>\n",
       "    </tr>\n",
       "  </thead>\n",
       "  <tbody>\n",
       "    <tr>\n",
       "      <th>18669058</th>\n",
       "      <td>5.541</td>\n",
       "      <td>4.991</td>\n",
       "      <td>6.072</td>\n",
       "      <td>6.129</td>\n",
       "      <td>3.978</td>\n",
       "      <td>4.852</td>\n",
       "      <td>3.813</td>\n",
       "      <td>5.330</td>\n",
       "      <td>6.117</td>\n",
       "      <td>5.493</td>\n",
       "      <td>6.006</td>\n",
       "      <td>2.391</td>\n",
       "    </tr>\n",
       "    <tr>\n",
       "      <th>32308869</th>\n",
       "      <td>4.985</td>\n",
       "      <td>4.930</td>\n",
       "      <td>5.423</td>\n",
       "      <td>5.553</td>\n",
       "      <td>3.500</td>\n",
       "      <td>3.893</td>\n",
       "      <td>2.691</td>\n",
       "      <td>5.026</td>\n",
       "      <td>5.503</td>\n",
       "      <td>4.217</td>\n",
       "      <td>5.516</td>\n",
       "      <td>1.335</td>\n",
       "    </tr>\n",
       "    <tr>\n",
       "      <th>35159913</th>\n",
       "      <td>1.395</td>\n",
       "      <td>2.655</td>\n",
       "      <td>1.022</td>\n",
       "      <td>0.822</td>\n",
       "      <td>2.949</td>\n",
       "      <td>9.267</td>\n",
       "      <td>8.019</td>\n",
       "      <td>1.830</td>\n",
       "      <td>0.897</td>\n",
       "      <td>8.353</td>\n",
       "      <td>0.940</td>\n",
       "      <td>7.335</td>\n",
       "    </tr>\n",
       "    <tr>\n",
       "      <th>37721845</th>\n",
       "      <td>4.102</td>\n",
       "      <td>3.677</td>\n",
       "      <td>4.633</td>\n",
       "      <td>4.690</td>\n",
       "      <td>2.539</td>\n",
       "      <td>5.288</td>\n",
       "      <td>4.060</td>\n",
       "      <td>3.928</td>\n",
       "      <td>4.678</td>\n",
       "      <td>5.457</td>\n",
       "      <td>4.571</td>\n",
       "      <td>2.738</td>\n",
       "    </tr>\n",
       "    <tr>\n",
       "      <th>35522458</th>\n",
       "      <td>4.295</td>\n",
       "      <td>4.101</td>\n",
       "      <td>4.779</td>\n",
       "      <td>4.876</td>\n",
       "      <td>2.762</td>\n",
       "      <td>4.703</td>\n",
       "      <td>3.465</td>\n",
       "      <td>4.248</td>\n",
       "      <td>4.842</td>\n",
       "      <td>4.863</td>\n",
       "      <td>4.802</td>\n",
       "      <td>2.167</td>\n",
       "    </tr>\n",
       "  </tbody>\n",
       "</table>\n",
       "</div>"
      ],
      "text/plain": [
       "          Gold_Museum  Monserrate  Bolivar_Square  Museo_Boltero  \\\n",
       "id                                                                 \n",
       "18669058        5.541       4.991           6.072          6.129   \n",
       "32308869        4.985       4.930           5.423          5.553   \n",
       "35159913        1.395       2.655           1.022          0.822   \n",
       "37721845        4.102       3.677           4.633          4.690   \n",
       "35522458        4.295       4.101           4.779          4.876   \n",
       "\n",
       "          Museo_Nacional_de_Colombia  Bogota_Botanical_Garden  \\\n",
       "id                                                              \n",
       "18669058                       3.978                    4.852   \n",
       "32308869                       3.500                    3.893   \n",
       "35159913                       2.949                    9.267   \n",
       "37721845                       2.539                    5.288   \n",
       "35522458                       2.762                    4.703   \n",
       "\n",
       "          Simon_Bolivar_Park  Museo_Quinta_Bolivar  \\\n",
       "id                                                   \n",
       "18669058               3.813                 5.330   \n",
       "32308869               2.691                 5.026   \n",
       "35159913               8.019                 1.830   \n",
       "37721845               4.060                 3.928   \n",
       "35522458               3.465                 4.248   \n",
       "\n",
       "          Catedral_Primada_de_Colombia  Maloka_Interavtive_Center  \\\n",
       "id                                                                  \n",
       "18669058                         6.117                      5.493   \n",
       "32308869                         5.503                      4.217   \n",
       "35159913                         0.897                      8.353   \n",
       "37721845                         4.678                      5.457   \n",
       "35522458                         4.842                      4.863   \n",
       "\n",
       "          Chorro_de_Quevedo  Parque_de_los_Novios  \n",
       "id                                                 \n",
       "18669058              6.006                 2.391  \n",
       "32308869              5.516                 1.335  \n",
       "35159913              0.940                 7.335  \n",
       "37721845              4.571                 2.738  \n",
       "35522458              4.802                 2.167  "
      ]
     },
     "execution_count": 12,
     "metadata": {},
     "output_type": "execute_result"
    }
   ],
   "source": [
    "distances = distance_to_sites(rooms, 'lat', 'lng', sites)\n",
    "distances.head()"
   ]
  },
  {
   "cell_type": "code",
   "execution_count": 13,
   "metadata": {},
   "outputs": [
    {
     "data": {
      "image/png": "[encoded data removed]",
      "text/plain": [
       "<Figure size 1440x1440 with 24 Axes>"
      ]
     },
     "metadata": {
      "needs_background": "light"
     },
     "output_type": "display_data"
    }
   ],
   "source": [
    "plt.figure(figsize=(20, 20))\n",
    "plot_nbr = 1\n",
    "for col in distances.columns:\n",
    "    plt.subplot(6, 4, plot_nbr)\n",
    "    plt.hist(distances[col])\n",
    "    plt.xlabel(col.title())\n",
    "    plot_nbr += 1\n",
    "    plt.subplot(6, 4, plot_nbr)\n",
    "    plt.hist(np.log1p(distances[col]), color='green')\n",
    "    plt.xlabel('Log1p ' + col.title())\n",
    "    plot_nbr += 1"
   ]
  },
  {
   "cell_type": "code",
   "execution_count": null,
   "metadata": {},
   "outputs": [],
   "source": []
  },
  {
   "cell_type": "code",
   "execution_count": 14,
   "metadata": {},
   "outputs": [
    {
     "ename": "SyntaxError",
     "evalue": "invalid syntax (<ipython-input-14-3dd4ea5ba507>, line 1)",
     "output_type": "error",
     "traceback": [
      "\u001b[0;36m  File \u001b[0;32m\"<ipython-input-14-3dd4ea5ba507>\"\u001b[0;36m, line \u001b[0;32m1\u001b[0m\n\u001b[0;31m    ===\u001b[0m\n\u001b[0m     ^\u001b[0m\n\u001b[0;31mSyntaxError\u001b[0m\u001b[0;31m:\u001b[0m invalid syntax\n"
     ]
    }
   ],
   "source": [
    "==="
   ]
  },
  {
   "cell_type": "code",
   "execution_count": null,
   "metadata": {},
   "outputs": [],
   "source": []
  },
  {
   "cell_type": "code",
   "execution_count": null,
   "metadata": {},
   "outputs": [],
   "source": []
  },
  {
   "cell_type": "code",
   "execution_count": null,
   "metadata": {},
   "outputs": [],
   "source": [
    "# Read in amenities data from a json object.\n",
    "with open('../data/amenities_strings.json', 'r') as f:\n",
    "    amenities_dict = json.load(f)"
   ]
  },
  {
   "cell_type": "code",
   "execution_count": null,
   "metadata": {},
   "outputs": [],
   "source": [
    "# Convert each entry in the amenities_dict to a document. Replace spaces with underscores\n",
    "# any other non-alphanumeric character with and underscore.\n",
    "corpus = []\n",
    "key_list = []\n",
    "for key, word_list in amenities_dict.items():\n",
    "    \n",
    "    try:\n",
    "        integer_key = int(key)\n",
    "        key_list.append(integer_key)\n",
    "    except Exception as e:\n",
    "        raise e\n",
    "    cleaned_word_list = [re.sub(r'(\\s+|\\W+)', '_', doc) for doc in word_list]\n",
    "    document = ' '.join(cleaned_word_list)\n",
    "    corpus.append(document)"
   ]
  },
  {
   "cell_type": "code",
   "execution_count": null,
   "metadata": {},
   "outputs": [],
   "source": [
    "# Fit a CountVectorizer\n",
    "cv = CountVectorizer()\n",
    "amenities_vec = cv.fit_transform(corpus)\n",
    "cv.get_feature_names()[:5]"
   ]
  },
  {
   "cell_type": "markdown",
   "metadata": {},
   "source": [
    "______\n",
    "**Amenities data is loaded below.**  \n",
    "This will be added to the analysis later after dong an initial analysis without it."
   ]
  },
  {
   "cell_type": "code",
   "execution_count": null,
   "metadata": {},
   "outputs": [],
   "source": [
    "# Convert transformed CountVecortizer data to a DataFrame with room ids as\n",
    "# the index.\n",
    "amenities_vec = amenities_vec.toarray()\n",
    "amenities = pd.DataFrame(amenities_vec, index=key_list)\n",
    "amenities.head()"
   ]
  },
  {
   "cell_type": "code",
   "execution_count": null,
   "metadata": {},
   "outputs": [],
   "source": [
    "# Validate that the length of the imput list of amenities is equal to the sum\n",
    "# of the amenities in the row for the equivalent id.\n",
    "for key, val in amenities_dict.items():\n",
    "    assert len(val) == sum(amenities.loc[int(key)])"
   ]
  },
  {
   "cell_type": "code",
   "execution_count": null,
   "metadata": {},
   "outputs": [],
   "source": [
    "amenities.shape"
   ]
  },
  {
   "cell_type": "code",
   "execution_count": null,
   "metadata": {},
   "outputs": [],
   "source": [
    "rooms.shape"
   ]
  },
  {
   "cell_type": "code",
   "execution_count": null,
   "metadata": {},
   "outputs": [],
   "source": [
    "distances = distance_to_sites(rooms, 'lat', 'lng', sites)\n",
    "distances.head()"
   ]
  },
  {
   "cell_type": "code",
   "execution_count": null,
   "metadata": {},
   "outputs": [],
   "source": [
    "distances.shape"
   ]
  },
  {
   "cell_type": "code",
   "execution_count": null,
   "metadata": {},
   "outputs": [],
   "source": [
    "# Drop latitude and longitude from rooms, and combine the three DataFrames.\n",
    "rooms = rooms.drop(['lat', 'lng'], axis=1)\n",
    "rooms_cols = rooms.columns\n",
    "amenities_cols = amenities.columns\n",
    "distances_cols = distances.columns\n",
    "\n",
    "room_data = rooms.merge(amenities, left_index=True, right_index=True, how='inner')\n",
    "room_data = room_data.merge(distances, left_index=True, right_index=True, how='inner')\n",
    "room_data.head()"
   ]
  },
  {
   "cell_type": "code",
   "execution_count": null,
   "metadata": {},
   "outputs": [],
   "source": [
    "room_data.shape"
   ]
  },
  {
   "cell_type": "code",
   "execution_count": null,
   "metadata": {},
   "outputs": [],
   "source": []
  },
  {
   "cell_type": "code",
   "execution_count": null,
   "metadata": {},
   "outputs": [],
   "source": [
    "# Compare correlation values for price and log of the price with the features before\n",
    "# and after taking the log of the feaures.\n",
    "# price_r and log_price_r os the correlation to normal features.\n",
    "# price_l and log_price_l is for the correlation with the log of the features. \n",
    "rooms['log_price'] = np.log(rooms['price'])\n",
    "fields_to_compare = ['price', 'log_price',  'bedrooms', 'beds', 'bathrooms','personCapacity',\n",
    "                     'reviewsCount', 'isSuperhost', 'avgRating', 'cleaning_fee']\n",
    "log_rooms = rooms[fields_to_compare].copy()\n",
    "features_to_log = ['bedrooms', 'beds', 'bathrooms', 'personCapacity', 'cleaning_fee']\n",
    "for feature in features_to_log:\n",
    "    log_rooms[feature] = np.log1p(log_rooms[feature])\n",
    "r = rooms[fields_to_compare].corr()\n",
    "l = log_rooms.corr()\n",
    "features = ['price', 'log_price']\n",
    "r[features].merge(l[features], left_index=True, right_index=True, suffixes=('_r', '_l'))"
   ]
  },
  {
   "cell_type": "markdown",
   "metadata": {},
   "source": [
    "**Based on the correlation values above price will be fit with the following features:**  \n",
    "log of bedrooms  \n",
    "log of beds  \n",
    "log of bathrooms  \n",
    "log of personCapacity  \n",
    "reviewsCount - low correlation so likely noise  \n",
    "isSuperhost - low correlation so likely noise  \n",
    "avgRating - low correlation so likely noise  \n",
    "cleaning_fee  "
   ]
  },
  {
   "cell_type": "markdown",
   "metadata": {},
   "source": [
    "______  \n",
    "### Clustering with Latitude and Longitude"
   ]
  },
  {
   "cell_type": "code",
   "execution_count": null,
   "metadata": {},
   "outputs": [],
   "source": [
    "# use Tilemapbase to create a map of all the room locations.\n",
    "import tilemapbase as tmb\n",
    "t_map = None"
   ]
  },
  {
   "cell_type": "code",
   "execution_count": null,
   "metadata": {},
   "outputs": [],
   "source": [
    "tmb.start_logging()\n",
    "if not t_map:\n",
    "    tmb.init(create=True)\n",
    "    t_map = tmb.tiles.build_OSM()"
   ]
  },
  {
   "cell_type": "code",
   "execution_count": null,
   "metadata": {},
   "outputs": [],
   "source": [
    "latitude_range = (rooms['lat'].min() - 0.003, rooms['lat'].max() + 0.003)\n",
    "longitude_range = (rooms['lng'].min() - 0.003, rooms['lng'].max() + 0.003)\n",
    "(latitude_range, longitude_range)"
   ]
  },
  {
   "cell_type": "code",
   "execution_count": null,
   "metadata": {},
   "outputs": [],
   "source": [
    "extent = tmb.Extent.from_lonlat(longitude_range[0],\n",
    "                                        longitude_range[1],\n",
    "                                        latitude_range[0],\n",
    "                                        latitude_range[1])\n",
    "extent = extent.to_aspect(1.0)"
   ]
  },
  {
   "cell_type": "code",
   "execution_count": null,
   "metadata": {},
   "outputs": [],
   "source": [
    "fig, ax = plt.subplots(figsize=(8, 8), dpi=100)\n",
    "ax.xaxis.set_visible(False)\n",
    "ax.yaxis.set_visible(False)\n",
    "\n",
    "plotter = tmb.Plotter(extent, t_map, width=600)\n",
    "plotter.plot(ax, t_map)\n",
    "\n",
    "first_point = (rooms.iloc[0]['lng'], rooms.iloc[0]['lat'])\n",
    "print(first_point)\n",
    "\n",
    "lats = []\n",
    "lngs = []\n",
    "for idx, row in rooms.iterrows():\n",
    "    x, y = tmb.project(row['lng'], row['lat'])\n",
    "    lngs.append(x)\n",
    "    lats.append(y)\n",
    "\n",
    "#x, y = tmb.project(*first_point)\n",
    "#print(x, y)\n",
    "#ax.scatter(x,y, marker=\".\", color=\"black\", linewidth=1)\n",
    "ax.scatter(lngs, lats, marker=\".\", color=\"black\", linewidth=1)"
   ]
  },
  {
   "cell_type": "markdown",
   "metadata": {},
   "source": [
    "______\n",
    "**Starting with KMeans clustering, look at the interia & sillhouette scores to help determine the proper number of clusters.**"
   ]
  },
  {
   "cell_type": "code",
   "execution_count": null,
   "metadata": {},
   "outputs": [],
   "source": [
    "points = rooms[['lng', 'lat']]"
   ]
  },
  {
   "cell_type": "code",
   "execution_count": null,
   "metadata": {},
   "outputs": [],
   "source": [
    "inertia_scores = []\n",
    "silhouette_scores = []\n",
    "clusters = []\n",
    "for i in range(2, 50):\n",
    "    km = KMeans(n_clusters=i, init='k-means++', random_state=SEED)\n",
    "    clusters.append(i)\n",
    "    labels = km.fit_predict(points)\n",
    "    inertia_scores.append(km.inertia_)\n",
    "    silhouette_scores.append(silhouette_score(points, labels))"
   ]
  },
  {
   "cell_type": "code",
   "execution_count": null,
   "metadata": {},
   "outputs": [],
   "source": [
    "plt.figure(figsize=(15, 6))\n",
    "plt.subplot(1, 2, 1)\n",
    "plt.xlabel('Number of Clusters')\n",
    "plt.ylabel('Inertia Score')\n",
    "plt.plot(np.arange(len(inertia_scores)), inertia_scores)\n",
    "plt.subplot(1, 2, 2)\n",
    "plt.xlabel('Number of Clusters')\n",
    "plt.ylabel('Silhouette Score')\n",
    "plt.plot(np.arange(len(silhouette_scores)), silhouette_scores)"
   ]
  },
  {
   "cell_type": "code",
   "execution_count": null,
   "metadata": {},
   "outputs": [],
   "source": [
    "# Find the \n",
    "for idx, val in enumerate(silhouette_scores[:10]):\n",
    "    print(idx, round(val, 4))"
   ]
  },
  {
   "cell_type": "markdown",
   "metadata": {},
   "source": [
    "______\n",
    "**The inertia elbow doesn't have a clear joint. Silhouette scores aren't very informative, but seem to stay in a close range between ~15 & ~30.**  \n",
    "Using 27 clusters (index 25) as it has the highest silhouette score in that range."
   ]
  },
  {
   "cell_type": "code",
   "execution_count": null,
   "metadata": {},
   "outputs": [],
   "source": [
    "km = KMeans(n_clusters=27, init='k-means++', random_state=SEED)\n",
    "labels = km.fit_predict(points)"
   ]
  },
  {
   "cell_type": "code",
   "execution_count": null,
   "metadata": {},
   "outputs": [],
   "source": [
    "rooms['cluster'] = labels"
   ]
  },
  {
   "cell_type": "code",
   "execution_count": null,
   "metadata": {},
   "outputs": [],
   "source": [
    "plot_rooms(rooms, extent, t_map)"
   ]
  },
  {
   "cell_type": "code",
   "execution_count": null,
   "metadata": {},
   "outputs": [],
   "source": [
    "cluster_dummies = pd.get_dummies(rooms['cluster'], drop_first=True)"
   ]
  },
  {
   "cell_type": "code",
   "execution_count": null,
   "metadata": {},
   "outputs": [],
   "source": [
    "cluster_dummies.head()"
   ]
  },
  {
   "cell_type": "code",
   "execution_count": null,
   "metadata": {},
   "outputs": [],
   "source": [
    "cluster_dummies.shape"
   ]
  },
  {
   "cell_type": "code",
   "execution_count": null,
   "metadata": {},
   "outputs": [],
   "source": [
    "rooms = rooms.merge(cluster_dummies, left_index=True, right_index=True, how='inner')\n",
    "rooms.shape"
   ]
  },
  {
   "cell_type": "code",
   "execution_count": null,
   "metadata": {},
   "outputs": [],
   "source": [
    "PATH"
   ]
  },
  {
   "cell_type": "code",
   "execution_count": null,
   "metadata": {},
   "outputs": [],
   "source": []
  },
  {
   "cell_type": "code",
   "execution_count": null,
   "metadata": {},
   "outputs": [],
   "source": [
    "asdf == abcd"
   ]
  },
  {
   "cell_type": "code",
   "execution_count": null,
   "metadata": {},
   "outputs": [],
   "source": []
  },
  {
   "cell_type": "code",
   "execution_count": null,
   "metadata": {},
   "outputs": [],
   "source": []
  },
  {
   "cell_type": "code",
   "execution_count": null,
   "metadata": {},
   "outputs": [],
   "source": []
  },
  {
   "cell_type": "code",
   "execution_count": null,
   "metadata": {},
   "outputs": [],
   "source": []
  },
  {
   "cell_type": "code",
   "execution_count": null,
   "metadata": {},
   "outputs": [],
   "source": [
    "# Pairplot with unchanged feaures.\n",
    "pair_plot_features = ['price', 'log_price', 'bedrooms', 'beds', 'bathrooms', 'personCapacity', 'cleaning_fee']\n",
    "sns.pairplot(rooms[pair_plot_features]);"
   ]
  },
  {
   "cell_type": "code",
   "execution_count": null,
   "metadata": {},
   "outputs": [],
   "source": [
    "# Pairplot with logs of ['bedrooms', 'beds', 'bathrooms', 'personCapacity', 'cleaning_fee']\n",
    "sns.pairplot(log_rooms[pair_plot_features]);"
   ]
  },
  {
   "cell_type": "code",
   "execution_count": null,
   "metadata": {},
   "outputs": [],
   "source": []
  },
  {
   "cell_type": "code",
   "execution_count": null,
   "metadata": {},
   "outputs": [],
   "source": []
  },
  {
   "cell_type": "code",
   "execution_count": null,
   "metadata": {},
   "outputs": [],
   "source": []
  },
  {
   "cell_type": "code",
   "execution_count": null,
   "metadata": {},
   "outputs": [],
   "source": []
  },
  {
   "cell_type": "code",
   "execution_count": null,
   "metadata": {},
   "outputs": [],
   "source": []
  },
  {
   "cell_type": "code",
   "execution_count": null,
   "metadata": {},
   "outputs": [],
   "source": []
  },
  {
   "cell_type": "code",
   "execution_count": null,
   "metadata": {},
   "outputs": [],
   "source": []
  },
  {
   "cell_type": "code",
   "execution_count": null,
   "metadata": {},
   "outputs": [],
   "source": [
    "# Create DataFrames for train_test_split.\n",
    "# One unchanged from original data as a control.\n",
    "# One with the log of the selected features.\n",
    "logs = ['bedrooms', 'beds', 'bathrooms', 'personCapacity']\n",
    "X_r = rooms.drop(['price', 'log_price', 'lat', 'lng'], axis=1)\n",
    "y_r = rooms['price']\n",
    "X_l = rooms.drop(['price', 'log_price', 'lat', 'lng'], axis=1)\n",
    "for item in logs:\n",
    "    X_l[item] = np.log1p(X_l[item])\n",
    "y_l = rooms['price']"
   ]
  },
  {
   "cell_type": "markdown",
   "metadata": {},
   "source": [
    "______\n",
    "**Xr_ prefix is for room data unchanged prior to the split.**  \n",
    "**Xl_ prefix is for room data that has had np.log applied to some of the fields.**  "
   ]
  },
  {
   "cell_type": "code",
   "execution_count": null,
   "metadata": {},
   "outputs": [],
   "source": [
    "# Train test splits\n",
    "Xr_train, Xr_test, yr_train, yr_test = train_test_split(X_r, y_r, test_size=0.2, random_state=SEED, stratify=np.floor(np.log2(y_r)))\n",
    "Xl_train, Xl_test, yl_train, yl_test = train_test_split(X_l, y_l, test_size=0.2, random_state=SEED, stratify=np.floor(np.log2(y_l)))"
   ]
  },
  {
   "cell_type": "code",
   "execution_count": null,
   "metadata": {},
   "outputs": [],
   "source": [
    "plt.figure(figsize=(15, 5))\n",
    "plt.subplot(1, 2, 1)\n",
    "plt.hist(yr_train);\n",
    "plt.subplot(1, 2, 2)\n",
    "plt.hist(yr_test);"
   ]
  },
  {
   "cell_type": "code",
   "execution_count": null,
   "metadata": {},
   "outputs": [],
   "source": [
    "plt.figure(figsize=(15, 5))\n",
    "plt.subplot(1, 2, 1)\n",
    "plt.hist(yl_train);\n",
    "plt.subplot(1, 2, 2)\n",
    "plt.hist(yl_test);"
   ]
  },
  {
   "cell_type": "code",
   "execution_count": null,
   "metadata": {},
   "outputs": [],
   "source": [
    "# Baseline regression to see p-Values\n",
    "Xr_train_with_constant = sm.add_constant(Xr_train)\n",
    "model = sm.OLS(yr_train, Xr_train_with_constant)\n",
    "fit = model.fit()\n",
    "fit.summary()"
   ]
  },
  {
   "cell_type": "code",
   "execution_count": null,
   "metadata": {},
   "outputs": [],
   "source": [
    "# Baseline regression to see p-Values\n",
    "Xl_train_with_constant = sm.add_constant(Xl_train)\n",
    "model = sm.OLS(yr_train, Xl_train_with_constant)\n",
    "fit = model.fit()\n",
    "fit.summary()"
   ]
  },
  {
   "cell_type": "markdown",
   "metadata": {},
   "source": [
    "______  \n",
    "**It is interesting that neither bedrooms or beds seems to be particularly important to the model. Values that don't seem to correlate well such as reviewsCount, and avgRating are important.**"
   ]
  },
  {
   "cell_type": "code",
   "execution_count": null,
   "metadata": {},
   "outputs": [],
   "source": [
    "# Fit a LinearRegression with StandardScaler\n",
    "pipe = make_pipeline(StandardScaler(), LinearRegression())\n",
    "pipe.fit(Xr_train, np.log(yr_train))\n",
    "yr_pred = pipe.predict(Xr_train)\n",
    "r2_score(yr_pred, np.log(yr_train))"
   ]
  },
  {
   "cell_type": "code",
   "execution_count": null,
   "metadata": {},
   "outputs": [],
   "source": [
    "plt.scatter(yr_pred, yr_train);"
   ]
  },
  {
   "cell_type": "code",
   "execution_count": null,
   "metadata": {},
   "outputs": [],
   "source": [
    "# Fit a LinearRegression with StandardScaler\n",
    "pipe = make_pipeline(StandardScaler(), LinearRegression())\n",
    "pipe.fit(Xl_train, np.log(yl_train))\n",
    "yl_pred = pipe.predict(Xl_train)\n",
    "r2_score(yl_pred, np.log(yl_train))"
   ]
  },
  {
   "cell_type": "code",
   "execution_count": null,
   "metadata": {},
   "outputs": [],
   "source": [
    "plt.scatter(yl_pred, yl_train);"
   ]
  },
  {
   "cell_type": "code",
   "execution_count": null,
   "metadata": {},
   "outputs": [],
   "source": [
    "Xr_train2 = Xr_train.drop(['reviewsCount', 'isSuperhost', 'avgRating'], axis=1)\n",
    "pipe = make_pipeline(StandardScaler(), LinearRegression())\n",
    "pipe.fit(Xr_train2, np.log(yr_train))\n",
    "yr_pred = pipe.predict(Xr_train2)\n",
    "r2_score(yr_pred, np.log(yr_train))"
   ]
  },
  {
   "cell_type": "code",
   "execution_count": null,
   "metadata": {},
   "outputs": [],
   "source": [
    "# Cross val score of scales but unchanged input features.\n",
    "pipe = make_pipeline(StandardScaler(), LinearRegression())\n",
    "cross_val_score(pipe, Xr_train, yr_train)"
   ]
  },
  {
   "cell_type": "code",
   "execution_count": null,
   "metadata": {},
   "outputs": [],
   "source": [
    "# Cross val score with the log of input features i.e. ['bedrooms', 'beds', 'bathrooms', 'personCapacity']\n",
    "pipe = make_pipeline(StandardScaler(), LinearRegression())\n",
    "cross_val_score(pipe, Xl_train, yl_train)"
   ]
  },
  {
   "cell_type": "markdown",
   "metadata": {},
   "source": [
    "______\n",
    "**Logs of the input features ['bedrooms', 'beds', 'bathrooms', 'personCapacity'] appears to yield better results in general.**"
   ]
  },
  {
   "cell_type": "code",
   "execution_count": null,
   "metadata": {},
   "outputs": [],
   "source": [
    "Xl_train.head()"
   ]
  },
  {
   "cell_type": "code",
   "execution_count": null,
   "metadata": {},
   "outputs": [],
   "source": [
    "Xl_train.shape"
   ]
  },
  {
   "cell_type": "code",
   "execution_count": null,
   "metadata": {},
   "outputs": [],
   "source": [
    "Xl_train = Xl_train.merge(cluster_dummies, left_index=True, right_index=True, how='inner')"
   ]
  },
  {
   "cell_type": "code",
   "execution_count": null,
   "metadata": {},
   "outputs": [],
   "source": [
    "Xl_train.head()"
   ]
  },
  {
   "cell_type": "code",
   "execution_count": null,
   "metadata": {},
   "outputs": [],
   "source": [
    "cross_val_score(pipe, Xl_train, yl_train)"
   ]
  },
  {
   "cell_type": "code",
   "execution_count": null,
   "metadata": {},
   "outputs": [],
   "source": [
    "pipe.fit(Xl_train, yl_train)\n",
    "yl_pred = pipe.predict(Xl_train)"
   ]
  },
  {
   "cell_type": "code",
   "execution_count": null,
   "metadata": {},
   "outputs": [],
   "source": [
    "plt.scatter(yl_pred, yl_train)"
   ]
  },
  {
   "cell_type": "code",
   "execution_count": null,
   "metadata": {},
   "outputs": [],
   "source": [
    "np.corrcoef(yl_pred, yl_train)"
   ]
  },
  {
   "cell_type": "code",
   "execution_count": null,
   "metadata": {},
   "outputs": [],
   "source": [
    "rf_pipe = make_pipeline(StandardScaler(), RandomForestRegressor())\n",
    "rf_pipe.fit(Xl_train, yl_train)\n",
    "rf_pred = rf_pipe.predict(Xl_train)"
   ]
  },
  {
   "cell_type": "code",
   "execution_count": null,
   "metadata": {},
   "outputs": [],
   "source": [
    "r2_score(rf_pred, yl_pred)"
   ]
  },
  {
   "cell_type": "code",
   "execution_count": null,
   "metadata": {},
   "outputs": [],
   "source": [
    "plt.scatter(rf_pred, yl_train)"
   ]
  },
  {
   "cell_type": "code",
   "execution_count": null,
   "metadata": {},
   "outputs": [],
   "source": [
    "cross_val_score(rf_pipe, Xl_train, yl_train)"
   ]
  },
  {
   "cell_type": "code",
   "execution_count": null,
   "metadata": {},
   "outputs": [],
   "source": [
    "from hyperopt import fmin, hp, tpe, Trials, space_eval, STATUS_OK\n",
    "from hyperopt.pyll import scope as ho_scope\n",
    "from hyperopt.pyll.stochastic import sample as ho_sample\n",
    "from functools import partial"
   ]
  },
  {
   "cell_type": "code",
   "execution_count": null,
   "metadata": {},
   "outputs": [],
   "source": [
    "def obj(hps, X, y, ncv=3):\n",
    "    model = RandomForestRegressor(**hps)\n",
    "    cvs = cross_val_score(model, X, y, cv=ncv, scoring='neg_mean_squared_error')\n",
    "    \n",
    "    avg_score = cvs.mean()\n",
    "    \n",
    "    return -avg_score"
   ]
  },
  {
   "cell_type": "code",
   "execution_count": null,
   "metadata": {},
   "outputs": [],
   "source": [
    "from hyperopt import fmin, tpe, hp\n",
    "best = fmin(fn=lambda x: x ** 2,\n",
    "    space=hp.uniform('x', -10, 10),\n",
    "    algo=tpe.suggest,\n",
    "    max_evals=500)\n",
    "print(best)"
   ]
  },
  {
   "cell_type": "code",
   "execution_count": null,
   "metadata": {},
   "outputs": [],
   "source": [
    "hp_space = {\n",
    "    'n_estimators': ho_scope.int(hp.quniform('n_estimators', low=100, high=500, q=25)), \n",
    "    #'criterion': hp.choice('criterion', ['gini', 'entropy']), \n",
    "    #'max_features': hp.uniform('max_features', low=0.25, high=0.75),\n",
    "    'max_depth': ho_scope.int(hp.quniform('max_depth', low=3, high=10, q=5))\n",
    "}"
   ]
  },
  {
   "cell_type": "code",
   "execution_count": null,
   "metadata": {},
   "outputs": [],
   "source": [
    "ho_sample(hp_space)"
   ]
  },
  {
   "cell_type": "code",
   "execution_count": null,
   "metadata": {},
   "outputs": [],
   "source": [
    "trials = Trials()"
   ]
  },
  {
   "cell_type": "code",
   "execution_count": null,
   "metadata": {},
   "outputs": [],
   "source": [
    "best_rf = fmin(partial(obj, X=Xl_train, y=yl_train), hp_space, algo=tpe.suggest, max_evals=300, trials=trials, rstate=np.random.RandomState(SEED))"
   ]
  },
  {
   "cell_type": "code",
   "execution_count": null,
   "metadata": {},
   "outputs": [],
   "source": [
    "best_rf"
   ]
  },
  {
   "cell_type": "code",
   "execution_count": null,
   "metadata": {},
   "outputs": [],
   "source": [
    "cross_val_score(RandomForestRegressor(n_estimators=150, max_depth=10), Xl_train, yl_train)"
   ]
  },
  {
   "cell_type": "code",
   "execution_count": null,
   "metadata": {},
   "outputs": [],
   "source": [
    "rf = RandomForestRegressor(n_estimators=150, max_depth=10)"
   ]
  },
  {
   "cell_type": "code",
   "execution_count": null,
   "metadata": {},
   "outputs": [],
   "source": [
    "rf.fit(Xl_train, yl_train)"
   ]
  },
  {
   "cell_type": "code",
   "execution_count": null,
   "metadata": {},
   "outputs": [],
   "source": [
    "rf_pred = rf.predict(Xl_train)\n",
    "r2_score(rf_pred, yl_train)"
   ]
  },
  {
   "cell_type": "code",
   "execution_count": null,
   "metadata": {},
   "outputs": [],
   "source": []
  },
  {
   "cell_type": "code",
   "execution_count": null,
   "metadata": {},
   "outputs": [],
   "source": []
  }
 ],
 "metadata": {
  "kernelspec": {
   "display_name": "Python 3",
   "language": "python",
   "name": "python3"
  },
  "language_info": {
   "codemirror_mode": {
    "name": "ipython",
    "version": 3
   },
   "file_extension": ".py",
   "mimetype": "text/x-python",
   "name": "python",
   "nbconvert_exporter": "python",
   "pygments_lexer": "ipython3",
   "version": "3.7.8"
  }
 },
 "nbformat": 4,
 "nbformat_minor": 4
}
